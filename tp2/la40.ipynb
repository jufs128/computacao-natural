{
 "cells": [
  {
   "cell_type": "markdown",
   "metadata": {},
   "source": [
    "# Trabalho Prático 2 - ACO para o problema do JSS\n",
    "## Júlia Fonseca de Sena - 2018054508"
   ]
  },
  {
   "cell_type": "code",
   "execution_count": 1,
   "metadata": {},
   "outputs": [],
   "source": [
    "import numpy as np\n",
    "import random\n",
    "from collections import defaultdict\n",
    "import matplotlib.pyplot as plt"
   ]
  },
  {
   "cell_type": "markdown",
   "metadata": {},
   "source": [
    "## Leitura do arquivo de entrada"
   ]
  },
  {
   "cell_type": "code",
   "execution_count": 2,
   "metadata": {},
   "outputs": [
    {
     "name": "stdout",
     "output_type": "stream",
     "text": [
      "Linhas do arquivo:\n",
      "['Lawrence 15x15 instance (Table 10, instance 5); also called (seti5) or (I5)'\n",
      " '15 15'\n",
      " '9 65 10 28  4 74 12 33  2 51 14 75  5 73  8 32  6 13  3 81  1 35  7 59 13 38 11 55  0 27'\n",
      " '0 64  1 53 11 83  2 33  4  6  9 52 14 72  8  7 13 90 12 21  6 23  3 10 10 39  5 49  7 72'\n",
      " '14 73  3 82  1 23 12 62  6 88  5 21  8 65 11 70  7 53 10 81  2 93 13 77  0 61  9 28  4 78'\n",
      " '1 12  6 51  7 33  4 15 14 72 10 98  9 94  5 12 11 42  2 24 13 15  8 28  3  6 12 99  0 41'\n",
      " '12 97  5  7  9 96  4 15 14 73 13 43  0 32  8 22 11 42  1 94  2 23  7 86  6 78 10 24  3 31'\n",
      " '1 72  5 88  2 93 13 13  4 44 14 66  6 63  7 14  9 67 10 17 11 85  0 35  3 68 12  5  8 49'\n",
      " '9 15  7 82  6 21 14 53  3 72 13 49  2 99  4 26 12 56  8 45  1 68 10 51  0  8  5 27 11 96'\n",
      " '3 54  7 24  4 14  8 38  5 36  2 52 14 55 12 37 11 48  0 93 13 60 10 70  1 23  6 23  9 83'\n",
      " '3 12  8 69  6 26  9 23 14 28  1 82  5 33  4 45 13 64  7 15 11  9 12 73 10 59  2 37  0 62'\n",
      " '0 87  5 12  7 80  4 50 10 48 12 90  1 72 13 24  6 14  8 71 11 44  9 46  2 15 14 61  3 92'\n",
      " '2 54  0 22  6 61  4 46  3 73  5 16 12  6  9 94 14 93 13 67  8 54  7 75 11 32 10 40  1 97'\n",
      " '10 92 14 36  4 22  9  9  3 47  1 77 12 79 13 36  6 30  8 98 11 79  7  7  5 55  2  6  0 30'\n",
      " '0 49 13 83  3 73  6 82  1 82 14 92 11 73  4 31 10 35  9 54  5  7  8 37  7 72  2 52 12 76'\n",
      " '10 98 12 34 13 52  4 26  1 28  3 39  8 80  5 29  9 70  0 43  6 48  7 58  2 45 14 94 11 96'\n",
      " '1 70 10 17  6 90 12 67  4 14  8 23  3 21  7 18 13 43 11 84  5 26  9 36  2 93 14 84  0 42']\n"
     ]
    }
   ],
   "source": [
    "entrada = 'la40.txt'\n",
    "arq = open(entrada, 'r')\n",
    "arq_data = np.array([])\n",
    "for x in arq: #Guarda todas as linhas do arquivo em um array\n",
    "    arq_data = np.append(arq_data, x.strip())\n",
    "\n",
    "print('Linhas do arquivo:')    \n",
    "print(arq_data)"
   ]
  },
  {
   "cell_type": "code",
   "execution_count": 3,
   "metadata": {},
   "outputs": [
    {
     "name": "stdout",
     "output_type": "stream",
     "text": [
      "Número de máquinas e jobs: 15 15\n"
     ]
    }
   ],
   "source": [
    "if not arq_data[0][0].isdigit(): #No caso da primeira linha da instância ser o título (não foi especificado)\n",
    "    arq_data = np.delete(arq_data, 0)\n",
    "\n",
    "#Lê a primeira linha\n",
    "data = arq_data[0].split() #Lista de palavras da string\n",
    "num_jobs = int(data[0]) #Primeiro o número de jobs\n",
    "num_maq = int(data[1]) #Depois o número de máquinas\n",
    "arq_data = np.delete(arq_data, 0) #Já processada, retira linha do array\n",
    "\n",
    "print('Número de máquinas e jobs:', num_maq, num_jobs)"
   ]
  },
  {
   "cell_type": "code",
   "execution_count": 4,
   "metadata": {},
   "outputs": [
    {
     "name": "stdout",
     "output_type": "stream",
     "text": [
      "Matriz dos jobs:\n"
     ]
    },
    {
     "data": {
      "text/plain": [
       "array([[(9, 65), (10, 28), (4, 74), (12, 33), (2, 51), (14, 75), (5, 73),\n",
       "        (8, 32), (6, 13), (3, 81), (1, 35), (7, 59), (13, 38), (11, 55),\n",
       "        (0, 27)],\n",
       "       [(0, 64), (1, 53), (11, 83), (2, 33), (4, 6), (9, 52), (14, 72),\n",
       "        (8, 7), (13, 90), (12, 21), (6, 23), (3, 10), (10, 39), (5, 49),\n",
       "        (7, 72)],\n",
       "       [(14, 73), (3, 82), (1, 23), (12, 62), (6, 88), (5, 21), (8, 65),\n",
       "        (11, 70), (7, 53), (10, 81), (2, 93), (13, 77), (0, 61), (9, 28),\n",
       "        (4, 78)],\n",
       "       [(1, 12), (6, 51), (7, 33), (4, 15), (14, 72), (10, 98), (9, 94),\n",
       "        (5, 12), (11, 42), (2, 24), (13, 15), (8, 28), (3, 6), (12, 99),\n",
       "        (0, 41)],\n",
       "       [(12, 97), (5, 7), (9, 96), (4, 15), (14, 73), (13, 43), (0, 32),\n",
       "        (8, 22), (11, 42), (1, 94), (2, 23), (7, 86), (6, 78), (10, 24),\n",
       "        (3, 31)],\n",
       "       [(1, 72), (5, 88), (2, 93), (13, 13), (4, 44), (14, 66), (6, 63),\n",
       "        (7, 14), (9, 67), (10, 17), (11, 85), (0, 35), (3, 68), (12, 5),\n",
       "        (8, 49)],\n",
       "       [(9, 15), (7, 82), (6, 21), (14, 53), (3, 72), (13, 49), (2, 99),\n",
       "        (4, 26), (12, 56), (8, 45), (1, 68), (10, 51), (0, 8), (5, 27),\n",
       "        (11, 96)],\n",
       "       [(3, 54), (7, 24), (4, 14), (8, 38), (5, 36), (2, 52), (14, 55),\n",
       "        (12, 37), (11, 48), (0, 93), (13, 60), (10, 70), (1, 23),\n",
       "        (6, 23), (9, 83)],\n",
       "       [(3, 12), (8, 69), (6, 26), (9, 23), (14, 28), (1, 82), (5, 33),\n",
       "        (4, 45), (13, 64), (7, 15), (11, 9), (12, 73), (10, 59), (2, 37),\n",
       "        (0, 62)],\n",
       "       [(0, 87), (5, 12), (7, 80), (4, 50), (10, 48), (12, 90), (1, 72),\n",
       "        (13, 24), (6, 14), (8, 71), (11, 44), (9, 46), (2, 15), (14, 61),\n",
       "        (3, 92)],\n",
       "       [(2, 54), (0, 22), (6, 61), (4, 46), (3, 73), (5, 16), (12, 6),\n",
       "        (9, 94), (14, 93), (13, 67), (8, 54), (7, 75), (11, 32),\n",
       "        (10, 40), (1, 97)],\n",
       "       [(10, 92), (14, 36), (4, 22), (9, 9), (3, 47), (1, 77), (12, 79),\n",
       "        (13, 36), (6, 30), (8, 98), (11, 79), (7, 7), (5, 55), (2, 6),\n",
       "        (0, 30)],\n",
       "       [(0, 49), (13, 83), (3, 73), (6, 82), (1, 82), (14, 92), (11, 73),\n",
       "        (4, 31), (10, 35), (9, 54), (5, 7), (8, 37), (7, 72), (2, 52),\n",
       "        (12, 76)],\n",
       "       [(10, 98), (12, 34), (13, 52), (4, 26), (1, 28), (3, 39), (8, 80),\n",
       "        (5, 29), (9, 70), (0, 43), (6, 48), (7, 58), (2, 45), (14, 94),\n",
       "        (11, 96)],\n",
       "       [(1, 70), (10, 17), (6, 90), (12, 67), (4, 14), (8, 23), (3, 21),\n",
       "        (7, 18), (13, 43), (11, 84), (5, 26), (9, 36), (2, 93), (14, 84),\n",
       "        (0, 42)]], dtype=object)"
      ]
     },
     "execution_count": 4,
     "metadata": {},
     "output_type": "execute_result"
    }
   ],
   "source": [
    "jobs = np.ndarray(shape=(num_jobs,num_maq), dtype=tuple) #Matriz com dados dos trabalhos\n",
    "\n",
    "for i in range(num_jobs): #Para todos os jobs\n",
    "    data = arq_data[i].split() #Lista de palavras da linha\n",
    "    index_data = 0 #Índice na lista de palavras\n",
    "    for j in range(num_maq): #Para toda operação\n",
    "        jobs[i][j] = (int(data[index_data]), int(data[index_data + 1])) #Pega dados sequencialmente\n",
    "        index_data += 2 #Atualiza índice de palavras\n",
    "\n",
    "print('Matriz dos jobs:')\n",
    "jobs"
   ]
  },
  {
   "cell_type": "markdown",
   "metadata": {},
   "source": [
    "## Parâmetros"
   ]
  },
  {
   "cell_type": "code",
   "execution_count": 5,
   "metadata": {},
   "outputs": [],
   "source": [
    "#Inicialização dos parâmetros\n",
    "num_ciclos = 70\n",
    "num_ants = 2*num_jobs + (num_maq-1)*num_jobs + num_jobs*num_maq\n",
    "feromonio_inicial = 0.02\n",
    "\n",
    "alfa = 0.4\n",
    "beta = 0.6\n",
    "evaporacao = 0.7\n",
    "Q = 100"
   ]
  },
  {
   "cell_type": "markdown",
   "metadata": {},
   "source": [
    "## Contadores"
   ]
  },
  {
   "cell_type": "code",
   "execution_count": 6,
   "metadata": {},
   "outputs": [],
   "source": [
    "otimo = 1222\n",
    "encontrou_otimo = 0"
   ]
  },
  {
   "cell_type": "markdown",
   "metadata": {},
   "source": [
    "## Grafo Disjuntivo"
   ]
  },
  {
   "cell_type": "code",
   "execution_count": 7,
   "metadata": {},
   "outputs": [],
   "source": [
    "class No: #Cada nó é uma operação\n",
    "    def __init__(self, job, maquina, tempo, boolean = False):\n",
    "        self.job = job #Número do job\n",
    "        self.maq = maquina #Número da máquina\n",
    "        self.tempo = tempo #Tempo de processamento\n",
    "        \n",
    "        self.direcionadas = np.array([]) #Arestas direcionadas (só é mais que uma para o nó inicial)\n",
    "        self.feromonio_dir = np.array([]) #Feromônio das direcionadas\n",
    "        self.nao_direcionadas = np.array([]) #Arestas não direcionadas\n",
    "        self.feromonio_nao_dir = np.array([]) #Feromônio das não direcionadas\n",
    "\n",
    "        self.pode_usar = boolean #Verifica se operação já pode ser feita (anteriores concluídas)\n",
    "        \n",
    "    def __repr__(self): #Impressão\n",
    "        return f'({self.job}, {self.maq}, {self.tempo})'\n",
    "        \n",
    "    def adiciona_direcionada(self, no, feromonio = feromonio_inicial): #Adiciona uma aresta direcionada\n",
    "        self.direcionadas = np.append(self.direcionadas, no)\n",
    "        self.feromonio_dir = np.append(self.feromonio_dir, feromonio)\n",
    "    \n",
    "    def adiciona_nao_direcionada(self, no, feromonio = feromonio_inicial): #Adiciona uma aresta não direcionada\n",
    "        if no not in self.nao_direcionadas:\n",
    "            self.nao_direcionadas = np.append(self.nao_direcionadas, no)\n",
    "            self.feromonio_nao_dir = np.append(self.feromonio_nao_dir, feromonio)\n",
    "            \n",
    "        if self not in no.nao_direcionadas: #Em ambos nós\n",
    "            no.nao_direcionadas = np.append(no.nao_direcionadas, self)\n",
    "            no.feromonio_nao_dir = np.append(no.feromonio_nao_dir, feromonio)\n",
    "        \n",
    "class Grafo: #Grafo com relação das operações\n",
    "    def __init__(self):\n",
    "        self.inicio = No(-1, -1, -1) #Valores arbitrários para nós de início e fim\n",
    "        self.fim = No(-1, -1, -1)\n",
    "    \n",
    "    def completa_direcionadas(self): #Coloca arestas direcionadas para operações de um mesmo job\n",
    "        for job in range(0, num_jobs):\n",
    "            atual = No(job, jobs[job][0][0], jobs[job][0][1], boolean = True)\n",
    "            self.inicio.adiciona_direcionada(atual) #Do início para a primeira operação\n",
    "            \n",
    "            for op in range(1, num_maq): #Coloca as operações na sequência (cada nó aponta para a operação seguinte)\n",
    "                prox = No(job, jobs[job][op][0], jobs[job][op][1])\n",
    "                atual.adiciona_direcionada(prox)\n",
    "                atual = prox\n",
    "            \n",
    "            atual.adiciona_direcionada(self.fim) #Última aponta para o fim\n",
    "    \n",
    "    def completa_nao_direcionadas(self): #Coloca arestas não direcionadas para operações de uma mesma máquina\n",
    "        for job in range(num_jobs): #Começando pelo primeiro job\n",
    "            no_atual = self.inicio.direcionadas[job]\n",
    "            for op in range(num_maq): #Para cada operação\n",
    "                maq = no_atual.maq\n",
    "                for other_job in range(job+1, num_jobs): #Passa pelos jobs seguintes\n",
    "                    no_comp = self.inicio.direcionadas[other_job]\n",
    "                    for other_op in range(num_maq): #Para todas as operações\n",
    "                        maq_comp = no_comp.maq\n",
    "                        if maq_comp == maq: #Se a máquina for igual\n",
    "                            no_atual.adiciona_nao_direcionada(no_comp) #Cria aresta não direcionada\n",
    "                            break\n",
    "                        no_comp = no_comp.direcionadas[0] #Próxima do job para comparar\n",
    "                no_atual = no_atual.direcionadas[0] #Próxima do job para achar não direcionadas\n",
    "                            \n",
    "    def constroi_grafo(self): #Chama as funções de construção do grafo\n",
    "        self.completa_direcionadas()\n",
    "        self.completa_nao_direcionadas()\n",
    "\n",
    "    def reseta_pode_usar(self): #Reseta pode_usar para valores iniciais (chamado depois da construção de cada formiga)\n",
    "        for job in self.inicio.direcionadas: #A partir da segunda operação de cada job\n",
    "            op = job\n",
    "            while op != self.fim: #Enquanto não chegou no fim\n",
    "                op = op.direcionadas[0]\n",
    "                op.pode_usar = False #Não é alcançável"
   ]
  },
  {
   "cell_type": "code",
   "execution_count": 8,
   "metadata": {},
   "outputs": [],
   "source": [
    "G = Grafo()\n",
    "G.constroi_grafo() #Constrói grafo global"
   ]
  },
  {
   "cell_type": "markdown",
   "metadata": {},
   "source": [
    "## Formigas"
   ]
  },
  {
   "cell_type": "markdown",
   "metadata": {},
   "source": [
    "#### Cálculo da probabilidade das arestas"
   ]
  },
  {
   "cell_type": "code",
   "execution_count": 9,
   "metadata": {},
   "outputs": [],
   "source": [
    "def lrt(arestas): #Heurística LRT\n",
    "    tempo_restante = np.array([]) #Salva o tempo restante dos jobs de cada aresta\n",
    "    for a in arestas:\n",
    "        no = a[0] #Nó é o primeiro elemento da tupla\n",
    "        soma = 0\n",
    "        while no != G.fim: #Enquanto não chegou no fim\n",
    "            soma += no.tempo #Soma tempo ao total\n",
    "            no = no.direcionadas[0] #Próxima operação do job\n",
    "        tempo_restante = np.append(tempo_restante, soma) #Coloca na lista o tempo restante\n",
    "    \n",
    "    N = np.argsort(tempo_restante) #Retorna nos mesmos índices quais tempos são maiores\n",
    "    N += 1 #Adiciona 1 para não ter 0\n",
    "    \n",
    "    return N\n",
    "\n",
    "def probabilidade(arestas): #Retorna a probabilidade de escolher cada aresta\n",
    "    N = lrt(arestas) #Peso de cada aresta pelo índice LPT\n",
    "    \n",
    "    lista_prob = [] #Lista de probabilidade de cada aresta\n",
    "    soma = 0\n",
    "    for i in range(len(arestas)):\n",
    "        lista_prob.append((arestas[i][1] ** alfa) * (N[i] ** beta)) #De cada aresta (feromônio ** 0.2) * (heuristica ** 0.8)\n",
    "        soma += (arestas[i][1] ** alfa) * (N[i] ** beta) #Soma de todas as arestas\n",
    "\n",
    "    return (lista_prob / soma) #Divide todas pela soma\n",
    "\n",
    "def escolha(arestas): #Escolhe uma aresta pra seguir\n",
    "    probs = probabilidade(arestas) #Lista de probabilidades\n",
    "    \n",
    "    p_escolha = random.random() #Número aleatório entre 0 e 1\n",
    "    if p_escolha == 1: #Se for igual a 1\n",
    "        index_escolha = len(possiveis) - 1 #Já escolhe o último\n",
    "    else:\n",
    "        index_escolha = 0 \n",
    "        while p_escolha > probs[index_escolha]: #Se for menor que a probabilidade, não está em seu intervalo\n",
    "            p_escolha -= probs[index_escolha] #Diminui a probabilidade atual do número aleatório escolhido\n",
    "            index_escolha += 1 #Passa para próxima aresta\n",
    "    \n",
    "    return index_escolha"
   ]
  },
  {
   "cell_type": "markdown",
   "metadata": {},
   "source": [
    "#### Classe das formigas"
   ]
  },
  {
   "cell_type": "code",
   "execution_count": 10,
   "metadata": {},
   "outputs": [
    {
     "name": "stdout",
     "output_type": "stream",
     "text": [
      "[(12, 0, 49) (9, 0, 87) (9, 5, 12) (9, 7, 80) (9, 4, 50) (9, 10, 48)\n",
      " (11, 10, 92) (13, 10, 98) (13, 12, 34) (13, 13, 52) (13, 4, 26)\n",
      " (13, 1, 28) (3, 1, 12) (3, 6, 51) (3, 7, 33) (3, 4, 15) (3, 14, 72)\n",
      " (2, 14, 73) (2, 3, 82) (2, 1, 23) (2, 12, 62) (9, 12, 90) (9, 1, 72)\n",
      " (5, 1, 72) (14, 1, 70) (14, 10, 17) (14, 6, 90) (2, 6, 88) (2, 5, 21)\n",
      " (5, 5, 88) (5, 2, 93) (10, 2, 54) (10, 0, 22) (1, 0, 64) (1, 1, 53)\n",
      " (1, 11, 83) (1, 2, 33) (1, 4, 6) (1, 9, 52) (1, 14, 72) (11, 14, 36)\n",
      " (11, 4, 22) (11, 9, 9) (6, 9, 15) (6, 7, 82) (6, 6, 21) (10, 6, 61)\n",
      " (10, 4, 46) (10, 3, 73) (7, 3, 54) (8, 3, 12) (13, 3, 39) (11, 3, 47)\n",
      " (11, 1, 77) (11, 12, 79) (11, 13, 36) (12, 13, 83) (12, 3, 73)\n",
      " (12, 6, 82) (12, 1, 82) (12, 14, 92) (6, 14, 53) (6, 3, 72) (6, 13, 49)\n",
      " (9, 13, 24) (9, 6, 14) (9, 8, 71) (2, 8, 65) (8, 8, 69) (13, 8, 80)\n",
      " (13, 5, 29) (10, 5, 16) (10, 12, 6) (10, 9, 94) (10, 14, 93) (10, 13, 67)\n",
      " (5, 13, 13) (5, 4, 44) (5, 14, 66) (5, 6, 63) (5, 7, 14) (7, 7, 24)\n",
      " (7, 4, 14) (7, 8, 38) (7, 5, 36) (7, 2, 52) (7, 14, 55) (7, 12, 37)\n",
      " (14, 12, 67) (14, 4, 14) (14, 8, 23) (1, 8, 7) (10, 8, 54) (10, 7, 75)\n",
      " (10, 11, 32) (2, 11, 70) (7, 11, 48) (7, 0, 93) (7, 13, 60) (7, 10, 70)\n",
      " (3, 10, 98) (10, 10, 40) (10, 1, 97) (7, 1, 23) (7, 6, 23) (8, 6, 26)\n",
      " (11, 6, 30) (11, 8, 98) (11, 11, 79) (12, 11, 73) (9, 11, 44) (9, 9, 46)\n",
      " (9, 2, 15) (6, 2, 99) (6, 4, 26) (6, 12, 56) (6, 8, 45) (6, 1, 68)\n",
      " (6, 10, 51) (6, 0, 8) (6, 5, 27) (6, 11, 96) (12, 4, 31) (12, 10, 35)\n",
      " (12, 9, 54) (13, 9, 70) (7, 9, 83) (5, 9, 67) (0, 9, 65) (3, 9, 94)\n",
      " (8, 9, 23) (8, 14, 28) (9, 14, 61) (9, 3, 92) (14, 3, 21) (14, 7, 18)\n",
      " (14, 13, 43) (1, 13, 90) (1, 12, 21) (1, 6, 23) (1, 3, 10) (1, 10, 39)\n",
      " (0, 10, 28) (5, 10, 17) (5, 11, 85) (14, 11, 84) (14, 5, 26) (14, 9, 36)\n",
      " (14, 2, 93) (14, 14, 84) (14, 0, 42) (13, 0, 43) (13, 6, 48) (13, 7, 58)\n",
      " (11, 7, 7) (11, 5, 55) (3, 5, 12) (12, 5, 7) (12, 8, 37) (12, 7, 72)\n",
      " (2, 7, 53) (2, 10, 81) (2, 2, 93) (13, 2, 45) (11, 2, 6) (11, 0, 30)\n",
      " (5, 0, 35) (5, 3, 68) (5, 12, 5) (4, 12, 97) (4, 5, 7) (1, 5, 49)\n",
      " (1, 7, 72) (8, 1, 82) (8, 5, 33) (8, 4, 45) (0, 4, 74) (0, 12, 33)\n",
      " (0, 2, 51) (0, 14, 75) (13, 14, 94) (13, 11, 96) (3, 11, 42) (3, 2, 24)\n",
      " (3, 13, 15) (8, 13, 64) (8, 7, 15) (8, 11, 9) (8, 12, 73) (8, 10, 59)\n",
      " (8, 2, 37) (12, 2, 52) (12, 12, 76) (5, 8, 49) (3, 8, 28) (3, 3, 6)\n",
      " (3, 12, 99) (3, 0, 41) (8, 0, 62) (0, 5, 73) (0, 8, 32) (0, 6, 13)\n",
      " (0, 3, 81) (0, 1, 35) (0, 7, 59) (0, 13, 38) (2, 13, 77) (2, 0, 61)\n",
      " (2, 9, 28) (4, 9, 96) (4, 4, 15) (2, 4, 78) (0, 11, 55) (0, 0, 27)\n",
      " (4, 14, 73) (4, 13, 43) (4, 0, 32) (4, 8, 22) (4, 11, 42) (4, 1, 94)\n",
      " (4, 2, 23) (4, 7, 86) (4, 6, 78) (4, 10, 24) (4, 3, 31)], 2138, 0.04677268475210477\n",
      "\n"
     ]
    }
   ],
   "source": [
    "class Ant: #Formiga\n",
    "    def __init__(self):\n",
    "        self.tabu = np.array([]) #Sequência de nós\n",
    "        self.makespan = 0 #Makespan\n",
    "        self.contribuicao = 0 #Contribuição no feromônio\n",
    "    \n",
    "    def __repr__(self): #Impressão\n",
    "        return f'{self.tabu}, {self.makespan}, {self.contribuicao}\\n'\n",
    "    \n",
    "    def constroi_solucao(self): #Constroi solução\n",
    "        index = escolha(list(zip(G.inicio.direcionadas, G.inicio.feromonio_dir))) #Escolha inicial\n",
    "        job_possiveis = np.copy(G.inicio.direcionadas) #Operações possíveis de cada job\n",
    "        no_atual = G.inicio.direcionadas[index] #Primeiro nó escolhido\n",
    "        \n",
    "        while len(job_possiveis) > 0: #Enquanto ainda houver operações possíveis para algum job\n",
    "            if no_atual.direcionadas[0] != G.fim: #Se direcionada não apontar para o fim\n",
    "                job_possiveis[np.where(job_possiveis == no_atual)[0]] = no_atual.direcionadas[0] #Atualiza operação do job para a próxima\n",
    "                no_atual.direcionadas[0].pode_usar = True #Pode usar a próxima\n",
    "            else: #Se é o fim do grafo\n",
    "                job_possiveis = np.delete(job_possiveis, np.where(job_possiveis == no_atual)) #Tira job do vetor\n",
    "                    \n",
    "            self.tabu = np.append(self.tabu, no_atual) #Coloca o nó atual no tabu\n",
    "            \n",
    "            possiveis = [] #Lista com arestas possíveis para seguir\n",
    "            if no_atual.direcionadas[0].pode_usar == True: #Se pode seguir a direcionada (não pode se for fim do grafo)\n",
    "                possiveis.append((no_atual.direcionadas[0], no_atual.feromonio_dir[0])) #Coloca na lista de possíveis\n",
    "                    \n",
    "            for i in range(num_jobs - 1): #Coloca as não direcionadas que já podem ser processadas\n",
    "                no = no_atual.nao_direcionadas[i]\n",
    "                if no.pode_usar == True and no not in self.tabu:\n",
    "                    possiveis.append((no, no_atual.feromonio_nao_dir[i]))\n",
    "                \n",
    "            if len(possiveis) == 0 and len(self.tabu) < num_jobs*num_maq: #Se não há alcançáveis do nó mas não passou por todos ainda\n",
    "                index_escolha = random.randint(0, len(job_possiveis)-1) #Escolhe um aleatório entre as operações possíveis\n",
    "                no_atual = job_possiveis[index_escolha]\n",
    "            elif len(possiveis) > 0: #Se há arestas possíveis\n",
    "                index_escolha = escolha(possiveis) #Escolhe de acordo com as probabilidades da aresta\n",
    "                no_atual = possiveis[index_escolha][0]\n",
    "            \n",
    "        G.reseta_pode_usar() #Depois de construir, reseta as operações alcançáveis\n",
    "    \n",
    "    def calcula_makespan(self): #Calcula o makespan da solução encontrada\n",
    "        jobs_tempo = []\n",
    "        for i in range(num_jobs): #O tempo final atual de cada job\n",
    "            jobs_tempo.append(0) #Inicial é 0\n",
    "        \n",
    "        maquinas_tempo = defaultdict(list) #O tempo final de cada máquina\n",
    "        \n",
    "        for op in self.tabu: #Para a sequência de operações no tabu\n",
    "            comeco_computacao = max(maquinas_tempo[op.maq], default = 0) \n",
    "            maquinas_tempo[op.maq].append(op.tempo)\n",
    "            fim_computacao = comeco_computacao + op.tempo\n",
    "            jobs_tempo[op.job] += fim_computacao\n",
    "        \n",
    "        self.makespan = max(jobs_tempo) #O job que com maior tempo de fim é \n",
    "        \n",
    "    def calcula_adicao_feromonio(self): #Calcula a contribuição para as arestas da solução\n",
    "        self.contribuicao = Q/self.makespan\n",
    "    \n",
    "    def constroi(self): #Chama as funções para a construção da formiga\n",
    "        self.constroi_solucao()\n",
    "        self.calcula_makespan()\n",
    "        self.calcula_adicao_feromonio()\n",
    "\n",
    "formiga = Ant()\n",
    "formiga.constroi()\n",
    "print(formiga)"
   ]
  },
  {
   "cell_type": "markdown",
   "metadata": {},
   "source": [
    "## Adição de feromônio"
   ]
  },
  {
   "cell_type": "code",
   "execution_count": 11,
   "metadata": {
    "scrolled": false
   },
   "outputs": [],
   "source": [
    "def evaporacao_todas_arestas(): #Evapora para todas as arestas\n",
    "    G.inicio.feromonio_dir *= evaporacao #Multiplica pela evaporação as iniciais\n",
    "    G.inicio.feromonio_nao_dir *= evaporacao \n",
    "    \n",
    "    for job in G.inicio.direcionadas: #Para todos os jobs\n",
    "        no_atual = job\n",
    "        while no_atual != G.fim: #Passa por todas as operações e atualiza as arestas\n",
    "            no_atual.feromonio_dir *= evaporacao\n",
    "            no_atual.feromonio_nao_dir *= evaporacao\n",
    "            no_atual = no_atual.direcionadas[0] #Próxima operação do job\n",
    "\n",
    "def soma_contribuicao(formigas): #Soma quanto deve ser adicionado para cada aresta\n",
    "    contribuicao_por_aresta = {}\n",
    "    for f in formigas: #Para toda formiga\n",
    "        no_atual = G.inicio\n",
    "        for prox_no in f.tabu: #Para todas as arestas da solução\n",
    "            if (no_atual, prox_no) not in contribuicao_por_aresta: #Se aresta (nó de saída, nó de chegada) não está no dicionário\n",
    "                contribuicao_por_aresta[(no_atual, prox_no)] = 0 #Coloca com contribuição 0\n",
    "            contribuicao_por_aresta[(no_atual, prox_no)] += f.contribuicao #Soma a contribuição da formiga na aresta\n",
    "            no_atual = prox_no #Próxima aresta\n",
    "    return contribuicao_por_aresta #Retorna dicionário\n",
    "\n",
    "def aumenta_feromonio(formigas): #Aumenta o feromônio das arestas\n",
    "    evaporacao_todas_arestas()\n",
    "    \n",
    "    contribuicao_por_aresta = soma_contribuicao(formigas) #Pega contribuição por aresta\n",
    "    for aresta in contribuicao_por_aresta: #Para cada aresta\n",
    "        saida = aresta[0] #Nó de saída\n",
    "        chegada = aresta[1] #Nó de chegada\n",
    "        if chegada in saida.direcionadas: #Se está nas direcionadas\n",
    "            index = np.where(saida.direcionadas == chegada)[0] #Adiciona feromônio no índice certo (pode não ser 0 no nó inicial)\n",
    "            saida.feromonio_dir[index] = contribuicao_por_aresta[aresta] + saida.feromonio_dir[index]\n",
    "        else: #Se estiver nas não direcionadas\n",
    "            index = np.where(saida.nao_direcionadas == chegada)[0] #Adiciona feromônio no índice certo\n",
    "            saida.feromonio_nao_dir[index] = contribuicao_por_aresta[aresta] + saida.feromonio_nao_dir[index]"
   ]
  },
  {
   "cell_type": "markdown",
   "metadata": {},
   "source": [
    "## Ciclos"
   ]
  },
  {
   "cell_type": "code",
   "execution_count": 12,
   "metadata": {},
   "outputs": [],
   "source": [
    "def cria_pop(): #Cria população de formigas\n",
    "    solucoes = np.array([])\n",
    "    while len(solucoes) < num_ants: #Cria todas as formigas e colocar no array\n",
    "        formiga = Ant()\n",
    "        formiga.constroi()\n",
    "        solucoes = np.append(solucoes, formiga)\n",
    "    return solucoes\n",
    "\n",
    "def ciclo(): #Executa cada ciclo\n",
    "    formigas = cria_pop() #População de formigas\n",
    "    \n",
    "    min_makespan = -1\n",
    "    for f in formigas: #Acha a formiga com menos makespan\n",
    "        if f.makespan == otimo:\n",
    "            encontrou_otimo += 1\n",
    "            \n",
    "        if (min_makespan > f.makespan) or (min_makespan == -1):\n",
    "            min_makespan = f.makespan\n",
    "            min_formiga = f\n",
    "    \n",
    "    aumenta_feromonio(formigas) #Aumenta feromônios nas arestas\n",
    "    \n",
    "    return min_formiga #Retorna a melhor formiga"
   ]
  },
  {
   "cell_type": "markdown",
   "metadata": {},
   "source": [
    "## Algoritmo"
   ]
  },
  {
   "cell_type": "code",
   "execution_count": 13,
   "metadata": {
    "scrolled": true
   },
   "outputs": [],
   "source": [
    "media = 0\n",
    "d_padrao = 0\n",
    "def algoritmo(): #Processa o algoritmo\n",
    "    global media, d_padrao\n",
    "    min_makespan = -1\n",
    "    makespans = np.array([])\n",
    "    for c in range(num_ciclos):\n",
    "        melhor_ciclo = ciclo() #Melhor formiga de cada ciclo\n",
    "        makespans = np.append(makespans, melhor_ciclo.makespan) #Salva os makespans por ciclo\n",
    "        \n",
    "        if min_makespan > melhor_ciclo.makespan or min_makespan == -1: #Se makespan for menor que a menor atual\n",
    "            min_formiga = melhor_ciclo\n",
    "            min_makespan = melhor_ciclo.makespan\n",
    "    \n",
    "    media = np.average(makespans)\n",
    "    d_padrao = np.std(makespans)\n",
    "    return min_formiga #Retorna a melhor formiga de todos os ciclos\n",
    "\n",
    "melhor_plano = algoritmo()"
   ]
  },
  {
   "cell_type": "code",
   "execution_count": 14,
   "metadata": {},
   "outputs": [
    {
     "data": {
      "text/plain": [
       "[(2, 14, 73) (2, 3, 82) (2, 1, 23) (2, 12, 62) (2, 6, 88) (2, 5, 21)\n",
       " (2, 8, 65) (2, 11, 70) (2, 7, 53) (2, 10, 81) (13, 10, 98) (13, 12, 34)\n",
       " (4, 12, 97) (4, 5, 7) (4, 9, 96) (0, 9, 65) (6, 9, 15) (6, 7, 82)\n",
       " (6, 6, 21) (6, 14, 53) (6, 3, 72) (6, 13, 49) (13, 13, 52) (13, 4, 26)\n",
       " (13, 1, 28) (14, 1, 70) (14, 10, 17) (14, 6, 90) (14, 12, 67) (14, 4, 14)\n",
       " (14, 8, 23) (14, 3, 21) (13, 3, 39) (7, 3, 54) (7, 7, 24) (7, 4, 14)\n",
       " (7, 8, 38) (7, 5, 36) (7, 2, 52) (10, 2, 54) (10, 0, 22) (9, 0, 87)\n",
       " (12, 0, 49) (12, 13, 83) (12, 3, 73) (12, 6, 82) (12, 1, 82) (3, 1, 12)\n",
       " (3, 6, 51) (3, 7, 33) (3, 4, 15) (3, 14, 72) (3, 10, 98) (11, 10, 92)\n",
       " (11, 14, 36) (11, 4, 22) (4, 4, 15) (4, 14, 73) (7, 14, 55) (12, 14, 92)\n",
       " (12, 11, 73) (12, 4, 31) (12, 10, 35) (12, 9, 54) (12, 5, 7) (12, 8, 37)\n",
       " (12, 7, 72) (12, 2, 52) (12, 12, 76) (7, 12, 37) (7, 11, 48) (7, 0, 93)\n",
       " (7, 13, 60) (7, 10, 70) (7, 1, 23) (7, 6, 23) (7, 9, 83) (3, 9, 94)\n",
       " (3, 5, 12) (9, 5, 12) (9, 7, 80) (9, 4, 50) (9, 10, 48) (9, 12, 90)\n",
       " (9, 1, 72) (9, 13, 24) (9, 6, 14) (10, 6, 61) (10, 4, 46) (10, 3, 73)\n",
       " (10, 5, 16) (10, 12, 6) (10, 9, 94) (10, 14, 93) (10, 13, 67) (10, 8, 54)\n",
       " (10, 7, 75) (10, 11, 32) (10, 10, 40) (10, 1, 97) (5, 1, 72) (5, 5, 88)\n",
       " (5, 2, 93) (5, 13, 13) (5, 4, 44) (5, 14, 66) (5, 6, 63) (5, 7, 14)\n",
       " (5, 9, 67) (5, 10, 17) (0, 10, 28) (0, 4, 74) (0, 12, 33) (0, 2, 51)\n",
       " (0, 14, 75) (0, 5, 73) (0, 8, 32) (0, 6, 13) (0, 3, 81) (0, 1, 35)\n",
       " (0, 7, 59) (0, 13, 38) (0, 11, 55) (3, 11, 42) (3, 2, 24) (3, 13, 15)\n",
       " (4, 13, 43) (4, 0, 32) (1, 0, 64) (1, 1, 53) (1, 11, 83) (1, 2, 33)\n",
       " (1, 4, 6) (1, 9, 52) (1, 14, 72) (1, 8, 7) (9, 8, 71) (9, 11, 44)\n",
       " (9, 9, 46) (9, 2, 15) (9, 14, 61) (9, 3, 92) (8, 3, 12) (8, 8, 69)\n",
       " (13, 8, 80) (13, 5, 29) (13, 9, 70) (13, 0, 43) (13, 6, 48) (13, 7, 58)\n",
       " (13, 2, 45) (13, 14, 94) (13, 11, 96) (5, 11, 85) (5, 0, 35) (5, 3, 68)\n",
       " (5, 12, 5) (5, 8, 49) (3, 8, 28) (3, 3, 6) (3, 12, 99) (3, 0, 41)\n",
       " (0, 0, 27) (11, 9, 9) (11, 3, 47) (11, 1, 77) (11, 12, 79) (11, 13, 36)\n",
       " (1, 13, 90) (1, 12, 21) (1, 6, 23) (1, 3, 10) (1, 10, 39) (1, 5, 49)\n",
       " (1, 7, 72) (14, 7, 18) (14, 13, 43) (14, 11, 84) (14, 5, 26) (14, 9, 36)\n",
       " (14, 2, 93) (14, 14, 84) (14, 0, 42) (11, 6, 30) (11, 8, 98) (11, 11, 79)\n",
       " (11, 7, 7) (11, 5, 55) (11, 2, 6) (11, 0, 30) (2, 2, 93) (2, 13, 77)\n",
       " (2, 0, 61) (2, 9, 28) (2, 4, 78) (8, 6, 26) (8, 9, 23) (8, 14, 28)\n",
       " (8, 1, 82) (8, 5, 33) (8, 4, 45) (8, 13, 64) (8, 7, 15) (8, 11, 9)\n",
       " (8, 12, 73) (8, 10, 59) (8, 2, 37) (8, 0, 62) (6, 2, 99) (6, 4, 26)\n",
       " (6, 12, 56) (6, 8, 45) (6, 1, 68) (6, 10, 51) (6, 0, 8) (6, 5, 27)\n",
       " (6, 11, 96) (4, 8, 22) (4, 11, 42) (4, 1, 94) (4, 2, 23) (4, 7, 86)\n",
       " (4, 6, 78) (4, 10, 24) (4, 3, 31)], 2019, 0.04952947003467063"
      ]
     },
     "execution_count": 14,
     "metadata": {},
     "output_type": "execute_result"
    }
   ],
   "source": [
    "melhor_plano"
   ]
  },
  {
   "cell_type": "code",
   "execution_count": 15,
   "metadata": {},
   "outputs": [
    {
     "name": "stdout",
     "output_type": "stream",
     "text": [
      "Distância do ótimo: 797\n",
      "Encontrou o ótimo: 0 vezes\n",
      "Média por ciclo: 2066.1857142857143\n",
      "Desvio padrão por ciclo: 13.793676457133598\n"
     ]
    }
   ],
   "source": [
    "print('Distância do ótimo:', melhor_plano.makespan - otimo)\n",
    "print('Encontrou o ótimo:', encontrou_otimo, 'vezes')\n",
    "print('Média por ciclo:', media)\n",
    "print('Desvio padrão por ciclo:', d_padrao)"
   ]
  }
 ],
 "metadata": {
  "kernelspec": {
   "display_name": "Python 3",
   "language": "python",
   "name": "python3"
  },
  "language_info": {
   "codemirror_mode": {
    "name": "ipython",
    "version": 3
   },
   "file_extension": ".py",
   "mimetype": "text/x-python",
   "name": "python",
   "nbconvert_exporter": "python",
   "pygments_lexer": "ipython3",
   "version": "3.8.5"
  }
 },
 "nbformat": 4,
 "nbformat_minor": 4
}
