{
 "cells": [
  {
   "cell_type": "markdown",
   "metadata": {},
   "source": [
    "# Trabalho Prático 2 - ACO para o problema do JSS\n",
    "## Júlia Fonseca de Sena - 2018054508"
   ]
  },
  {
   "cell_type": "code",
   "execution_count": 1,
   "metadata": {},
   "outputs": [],
   "source": [
    "import numpy as np\n",
    "import random\n",
    "from collections import defaultdict\n",
    "import matplotlib.pyplot as plt"
   ]
  },
  {
   "cell_type": "markdown",
   "metadata": {},
   "source": [
    "## Leitura do arquivo de entrada"
   ]
  },
  {
   "cell_type": "code",
   "execution_count": 2,
   "metadata": {},
   "outputs": [
    {
     "name": "stdout",
     "output_type": "stream",
     "text": [
      "Linhas do arquivo:\n",
      "['Lawrence 10x5 instance (Table 3, instance 1); also called (setf1) or (F1)'\n",
      " '10 5' '1 21 0 53 4 95 3 55 2 34' '0 21 3 52 4 16 2 26 1 71'\n",
      " '3 39 4 98 1 42 2 31 0 12' '1 77 0 55 4 79 2 66 3 77'\n",
      " '0 83 3 34 2 64 1 19 4 37' '1 54 2 43 4 79 0 92 3 62'\n",
      " '3 69 4 77 1 87 2 87 0 93' '2 38 0 60 1 41 3 24 4 83'\n",
      " '3 17 1 49 4 25 0 44 2 98' '4 77 3 79 2 43 1 75 0 96']\n"
     ]
    }
   ],
   "source": [
    "entrada = 'la01.txt'\n",
    "arq = open(entrada, 'r')\n",
    "arq_data = np.array([])\n",
    "for x in arq: #Guarda todas as linhas do arquivo em um array\n",
    "    arq_data = np.append(arq_data, x.strip())\n",
    "\n",
    "print('Linhas do arquivo:')    \n",
    "print(arq_data)"
   ]
  },
  {
   "cell_type": "code",
   "execution_count": 3,
   "metadata": {},
   "outputs": [
    {
     "name": "stdout",
     "output_type": "stream",
     "text": [
      "Número de máquinas e jobs: 5 10\n"
     ]
    }
   ],
   "source": [
    "if not arq_data[0][0].isdigit(): #No caso da primeira linha da instância ser o título (não foi especificado)\n",
    "    arq_data = np.delete(arq_data, 0)\n",
    "\n",
    "#Lê a primeira linha\n",
    "data = arq_data[0].split() #Lista de palavras da string\n",
    "num_jobs = int(data[0]) #Primeiro o número de jobs\n",
    "num_maq = int(data[1]) #Depois o número de máquinas\n",
    "arq_data = np.delete(arq_data, 0) #Já processada, retira linha do array\n",
    "\n",
    "print('Número de máquinas e jobs:', num_maq, num_jobs)"
   ]
  },
  {
   "cell_type": "code",
   "execution_count": 4,
   "metadata": {},
   "outputs": [
    {
     "name": "stdout",
     "output_type": "stream",
     "text": [
      "Matriz dos jobs:\n"
     ]
    },
    {
     "data": {
      "text/plain": [
       "array([[(1, 21), (0, 53), (4, 95), (3, 55), (2, 34)],\n",
       "       [(0, 21), (3, 52), (4, 16), (2, 26), (1, 71)],\n",
       "       [(3, 39), (4, 98), (1, 42), (2, 31), (0, 12)],\n",
       "       [(1, 77), (0, 55), (4, 79), (2, 66), (3, 77)],\n",
       "       [(0, 83), (3, 34), (2, 64), (1, 19), (4, 37)],\n",
       "       [(1, 54), (2, 43), (4, 79), (0, 92), (3, 62)],\n",
       "       [(3, 69), (4, 77), (1, 87), (2, 87), (0, 93)],\n",
       "       [(2, 38), (0, 60), (1, 41), (3, 24), (4, 83)],\n",
       "       [(3, 17), (1, 49), (4, 25), (0, 44), (2, 98)],\n",
       "       [(4, 77), (3, 79), (2, 43), (1, 75), (0, 96)]], dtype=object)"
      ]
     },
     "execution_count": 4,
     "metadata": {},
     "output_type": "execute_result"
    }
   ],
   "source": [
    "jobs = np.ndarray(shape=(num_jobs,num_maq), dtype=tuple) #Matriz com dados dos trabalhos\n",
    "\n",
    "for i in range(num_jobs): #Para todos os jobs\n",
    "    data = arq_data[i].split() #Lista de palavras da linha\n",
    "    index_data = 0 #Índice na lista de palavras\n",
    "    for j in range(num_maq): #Para toda operação\n",
    "        jobs[i][j] = (int(data[index_data]), int(data[index_data + 1])) #Pega dados sequencialmente\n",
    "        index_data += 2 #Atualiza índice de palavras\n",
    "\n",
    "print('Matriz dos jobs:')\n",
    "jobs"
   ]
  },
  {
   "cell_type": "markdown",
   "metadata": {},
   "source": [
    "## Parâmetros"
   ]
  },
  {
   "cell_type": "code",
   "execution_count": 5,
   "metadata": {},
   "outputs": [],
   "source": [
    "#Inicialização dos parâmetros\n",
    "num_ciclos = 70\n",
    "num_ants = 2*num_jobs + (num_maq-1)*num_jobs + num_jobs*num_maq\n",
    "feromonio_inicial = 0.02\n",
    "\n",
    "alfa = 0.4\n",
    "beta = 0.6\n",
    "evaporacao = 0.7\n",
    "Q = 100"
   ]
  },
  {
   "cell_type": "markdown",
   "metadata": {},
   "source": [
    "## Contadores"
   ]
  },
  {
   "cell_type": "code",
   "execution_count": 6,
   "metadata": {},
   "outputs": [],
   "source": [
    "otimo = 666\n",
    "encontrou_otimo = 0"
   ]
  },
  {
   "cell_type": "markdown",
   "metadata": {},
   "source": [
    "## Grafo Disjuntivo"
   ]
  },
  {
   "cell_type": "code",
   "execution_count": 7,
   "metadata": {},
   "outputs": [],
   "source": [
    "class No: #Cada nó é uma operação\n",
    "    def __init__(self, job, maquina, tempo, boolean = False):\n",
    "        self.job = job #Número do job\n",
    "        self.maq = maquina #Número da máquina\n",
    "        self.tempo = tempo #Tempo de processamento\n",
    "        \n",
    "        self.direcionadas = np.array([]) #Arestas direcionadas (só é mais que uma para o nó inicial)\n",
    "        self.feromonio_dir = np.array([]) #Feromônio das direcionadas\n",
    "        self.nao_direcionadas = np.array([]) #Arestas não direcionadas\n",
    "        self.feromonio_nao_dir = np.array([]) #Feromônio das não direcionadas\n",
    "\n",
    "        self.pode_usar = boolean #Verifica se operação já pode ser feita (anteriores concluídas)\n",
    "        \n",
    "    def __repr__(self): #Impressão\n",
    "        return f'({self.job}, {self.maq}, {self.tempo})'\n",
    "        \n",
    "    def adiciona_direcionada(self, no, feromonio = feromonio_inicial): #Adiciona uma aresta direcionada\n",
    "        self.direcionadas = np.append(self.direcionadas, no)\n",
    "        self.feromonio_dir = np.append(self.feromonio_dir, feromonio)\n",
    "    \n",
    "    def adiciona_nao_direcionada(self, no, feromonio = feromonio_inicial): #Adiciona uma aresta não direcionada\n",
    "        if no not in self.nao_direcionadas:\n",
    "            self.nao_direcionadas = np.append(self.nao_direcionadas, no)\n",
    "            self.feromonio_nao_dir = np.append(self.feromonio_nao_dir, feromonio)\n",
    "            \n",
    "        if self not in no.nao_direcionadas: #Em ambos nós\n",
    "            no.nao_direcionadas = np.append(no.nao_direcionadas, self)\n",
    "            no.feromonio_nao_dir = np.append(no.feromonio_nao_dir, feromonio)\n",
    "        \n",
    "class Grafo: #Grafo com relação das operações\n",
    "    def __init__(self):\n",
    "        self.inicio = No(-1, -1, -1) #Valores arbitrários para nós de início e fim\n",
    "        self.fim = No(-1, -1, -1)\n",
    "    \n",
    "    def completa_direcionadas(self): #Coloca arestas direcionadas para operações de um mesmo job\n",
    "        for job in range(0, num_jobs):\n",
    "            atual = No(job, jobs[job][0][0], jobs[job][0][1], boolean = True)\n",
    "            self.inicio.adiciona_direcionada(atual) #Do início para a primeira operação\n",
    "            \n",
    "            for op in range(1, num_maq): #Coloca as operações na sequência (cada nó aponta para a operação seguinte)\n",
    "                prox = No(job, jobs[job][op][0], jobs[job][op][1])\n",
    "                atual.adiciona_direcionada(prox)\n",
    "                atual = prox\n",
    "            \n",
    "            atual.adiciona_direcionada(self.fim) #Última aponta para o fim\n",
    "    \n",
    "    def completa_nao_direcionadas(self): #Coloca arestas não direcionadas para operações de uma mesma máquina\n",
    "        for job in range(num_jobs): #Começando pelo primeiro job\n",
    "            no_atual = self.inicio.direcionadas[job]\n",
    "            for op in range(num_maq): #Para cada operação\n",
    "                maq = no_atual.maq\n",
    "                for other_job in range(job+1, num_jobs): #Passa pelos jobs seguintes\n",
    "                    no_comp = self.inicio.direcionadas[other_job]\n",
    "                    for other_op in range(num_maq): #Para todas as operações\n",
    "                        maq_comp = no_comp.maq\n",
    "                        if maq_comp == maq: #Se a máquina for igual\n",
    "                            no_atual.adiciona_nao_direcionada(no_comp) #Cria aresta não direcionada\n",
    "                            break\n",
    "                        no_comp = no_comp.direcionadas[0] #Próxima do job para comparar\n",
    "                no_atual = no_atual.direcionadas[0] #Próxima do job para achar não direcionadas\n",
    "                            \n",
    "    def constroi_grafo(self): #Chama as funções de construção do grafo\n",
    "        self.completa_direcionadas()\n",
    "        self.completa_nao_direcionadas()\n",
    "\n",
    "    def reseta_pode_usar(self): #Reseta pode_usar para valores iniciais (chamado depois da construção de cada formiga)\n",
    "        for job in self.inicio.direcionadas: #A partir da segunda operação de cada job\n",
    "            op = job\n",
    "            while op != self.fim: #Enquanto não chegou no fim\n",
    "                op = op.direcionadas[0]\n",
    "                op.pode_usar = False #Não é alcançável"
   ]
  },
  {
   "cell_type": "code",
   "execution_count": 8,
   "metadata": {},
   "outputs": [],
   "source": [
    "G = Grafo()\n",
    "G.constroi_grafo() #Constrói grafo global"
   ]
  },
  {
   "cell_type": "markdown",
   "metadata": {},
   "source": [
    "## Formigas"
   ]
  },
  {
   "cell_type": "markdown",
   "metadata": {},
   "source": [
    "#### Cálculo da probabilidade das arestas"
   ]
  },
  {
   "cell_type": "code",
   "execution_count": 9,
   "metadata": {},
   "outputs": [],
   "source": [
    "def lrt(arestas): #Heurística LRT\n",
    "    tempo_restante = np.array([]) #Salva o tempo restante dos jobs de cada aresta\n",
    "    for a in arestas:\n",
    "        no = a[0] #Nó é o primeiro elemento da tupla\n",
    "        soma = 0\n",
    "        while no != G.fim: #Enquanto não chegou no fim\n",
    "            soma += no.tempo #Soma tempo ao total\n",
    "            no = no.direcionadas[0] #Próxima operação do job\n",
    "        tempo_restante = np.append(tempo_restante, soma) #Coloca na lista o tempo restante\n",
    "    \n",
    "    N = np.argsort(tempo_restante) #Retorna nos mesmos índices quais tempos são maiores\n",
    "    N += 1 #Adiciona 1 para não ter 0\n",
    "    \n",
    "    return N\n",
    "\n",
    "def probabilidade(arestas): #Retorna a probabilidade de escolher cada aresta\n",
    "    N = lrt(arestas) #Peso de cada aresta pelo índice LPT\n",
    "    \n",
    "    lista_prob = [] #Lista de probabilidade de cada aresta\n",
    "    soma = 0\n",
    "    for i in range(len(arestas)):\n",
    "        lista_prob.append((arestas[i][1] ** alfa) * (N[i] ** beta)) #De cada aresta (feromônio ** 0.2) * (heuristica ** 0.8)\n",
    "        soma += (arestas[i][1] ** alfa) * (N[i] ** beta) #Soma de todas as arestas\n",
    "\n",
    "    return (lista_prob / soma) #Divide todas pela soma\n",
    "\n",
    "def escolha(arestas): #Escolhe uma aresta pra seguir\n",
    "    probs = probabilidade(arestas) #Lista de probabilidades\n",
    "    \n",
    "    p_escolha = random.random() #Número aleatório entre 0 e 1\n",
    "    if p_escolha == 1: #Se for igual a 1\n",
    "        index_escolha = len(possiveis) - 1 #Já escolhe o último\n",
    "    else:\n",
    "        index_escolha = 0 \n",
    "        while p_escolha > probs[index_escolha]: #Se for menor que a probabilidade, não está em seu intervalo\n",
    "            p_escolha -= probs[index_escolha] #Diminui a probabilidade atual do número aleatório escolhido\n",
    "            index_escolha += 1 #Passa para próxima aresta\n",
    "    \n",
    "    return index_escolha"
   ]
  },
  {
   "cell_type": "markdown",
   "metadata": {},
   "source": [
    "#### Classe das formigas"
   ]
  },
  {
   "cell_type": "code",
   "execution_count": 10,
   "metadata": {},
   "outputs": [
    {
     "name": "stdout",
     "output_type": "stream",
     "text": [
      "[(2, 3, 39) (6, 3, 69) (6, 4, 77) (9, 4, 77) (9, 3, 79) (8, 3, 17)\n",
      " (8, 1, 49) (5, 1, 54) (5, 2, 43) (9, 2, 43) (7, 2, 38) (7, 0, 60)\n",
      " (1, 0, 21) (4, 0, 83) (4, 3, 34) (1, 3, 52) (1, 4, 16) (8, 4, 25)\n",
      " (5, 4, 79) (2, 4, 98) (2, 1, 42) (3, 1, 77) (7, 1, 41) (9, 1, 75)\n",
      " (0, 1, 21) (0, 0, 53) (0, 4, 95) (0, 3, 55) (7, 3, 24) (7, 4, 83)\n",
      " (8, 0, 44) (9, 0, 96) (3, 0, 55) (5, 0, 92) (5, 3, 62) (0, 2, 34)\n",
      " (1, 2, 26) (2, 2, 31) (4, 2, 64) (8, 2, 98) (1, 1, 71) (6, 1, 87)\n",
      " (6, 2, 87) (6, 0, 93) (2, 0, 12) (4, 1, 19) (4, 4, 37) (3, 4, 79)\n",
      " (3, 2, 66) (3, 3, 77)], 779, 0.12836970474967907\n",
      "\n"
     ]
    }
   ],
   "source": [
    "class Ant: #Formiga\n",
    "    def __init__(self):\n",
    "        self.tabu = np.array([]) #Sequência de nós\n",
    "        self.makespan = 0 #Makespan\n",
    "        self.contribuicao = 0 #Contribuição no feromônio\n",
    "    \n",
    "    def __repr__(self): #Impressão\n",
    "        return f'{self.tabu}, {self.makespan}, {self.contribuicao}\\n'\n",
    "    \n",
    "    def constroi_solucao(self): #Constroi solução\n",
    "        index = escolha(list(zip(G.inicio.direcionadas, G.inicio.feromonio_dir))) #Escolha inicial\n",
    "        job_possiveis = np.copy(G.inicio.direcionadas) #Operações possíveis de cada job\n",
    "        no_atual = G.inicio.direcionadas[index] #Primeiro nó escolhido\n",
    "        \n",
    "        while len(job_possiveis) > 0: #Enquanto ainda houver operações possíveis para algum job\n",
    "            if no_atual.direcionadas[0] != G.fim: #Se direcionada não apontar para o fim\n",
    "                job_possiveis[np.where(job_possiveis == no_atual)[0]] = no_atual.direcionadas[0] #Atualiza operação do job para a próxima\n",
    "                no_atual.direcionadas[0].pode_usar = True #Pode usar a próxima\n",
    "            else: #Se é o fim do grafo\n",
    "                job_possiveis = np.delete(job_possiveis, np.where(job_possiveis == no_atual)) #Tira job do vetor\n",
    "                    \n",
    "            self.tabu = np.append(self.tabu, no_atual) #Coloca o nó atual no tabu\n",
    "            \n",
    "            possiveis = [] #Lista com arestas possíveis para seguir\n",
    "            if no_atual.direcionadas[0].pode_usar == True: #Se pode seguir a direcionada (não pode se for fim do grafo)\n",
    "                possiveis.append((no_atual.direcionadas[0], no_atual.feromonio_dir[0])) #Coloca na lista de possíveis\n",
    "                    \n",
    "            for i in range(num_jobs - 1): #Coloca as não direcionadas que já podem ser processadas\n",
    "                no = no_atual.nao_direcionadas[i]\n",
    "                if no.pode_usar == True and no not in self.tabu:\n",
    "                    possiveis.append((no, no_atual.feromonio_nao_dir[i]))\n",
    "                \n",
    "            if len(possiveis) == 0 and len(self.tabu) < num_jobs*num_maq: #Se não há alcançáveis do nó mas não passou por todos ainda\n",
    "                index_escolha = random.randint(0, len(job_possiveis)-1) #Escolhe um aleatório entre as operações possíveis\n",
    "                no_atual = job_possiveis[index_escolha]\n",
    "            elif len(possiveis) > 0: #Se há arestas possíveis\n",
    "                index_escolha = escolha(possiveis) #Escolhe de acordo com as probabilidades da aresta\n",
    "                no_atual = possiveis[index_escolha][0]\n",
    "            \n",
    "        G.reseta_pode_usar() #Depois de construir, reseta as operações alcançáveis\n",
    "    \n",
    "    def calcula_makespan(self): #Calcula o makespan da solução encontrada\n",
    "        jobs_tempo = []\n",
    "        for i in range(num_jobs): #O tempo final atual de cada job\n",
    "            jobs_tempo.append(0) #Inicial é 0\n",
    "        \n",
    "        maquinas_tempo = defaultdict(list) #O tempo final de cada máquina\n",
    "        \n",
    "        for op in self.tabu: #Para a sequência de operações no tabu\n",
    "            comeco_computacao = max(maquinas_tempo[op.maq], default = 0) \n",
    "            maquinas_tempo[op.maq].append(op.tempo)\n",
    "            fim_computacao = comeco_computacao + op.tempo\n",
    "            jobs_tempo[op.job] += fim_computacao\n",
    "        \n",
    "        self.makespan = max(jobs_tempo) #O job que com maior tempo de fim é \n",
    "        \n",
    "    def calcula_adicao_feromonio(self): #Calcula a contribuição para as arestas da solução\n",
    "        self.contribuicao = Q/self.makespan\n",
    "    \n",
    "    def constroi(self): #Chama as funções para a construção da formiga\n",
    "        self.constroi_solucao()\n",
    "        self.calcula_makespan()\n",
    "        self.calcula_adicao_feromonio()\n",
    "\n",
    "formiga = Ant()\n",
    "formiga.constroi()\n",
    "print(formiga)"
   ]
  },
  {
   "cell_type": "markdown",
   "metadata": {},
   "source": [
    "## Adição de feromônio"
   ]
  },
  {
   "cell_type": "code",
   "execution_count": 11,
   "metadata": {
    "scrolled": false
   },
   "outputs": [],
   "source": [
    "def evaporacao_todas_arestas(): #Evapora para todas as arestas\n",
    "    G.inicio.feromonio_dir *= evaporacao #Multiplica pela evaporação as iniciais\n",
    "    G.inicio.feromonio_nao_dir *= evaporacao \n",
    "    \n",
    "    for job in G.inicio.direcionadas: #Para todos os jobs\n",
    "        no_atual = job\n",
    "        while no_atual != G.fim: #Passa por todas as operações e atualiza as arestas\n",
    "            no_atual.feromonio_dir *= evaporacao\n",
    "            no_atual.feromonio_nao_dir *= evaporacao\n",
    "            no_atual = no_atual.direcionadas[0] #Próxima operação do job\n",
    "\n",
    "def soma_contribuicao(formigas): #Soma quanto deve ser adicionado para cada aresta\n",
    "    contribuicao_por_aresta = {}\n",
    "    for f in formigas: #Para toda formiga\n",
    "        no_atual = G.inicio\n",
    "        for prox_no in f.tabu: #Para todas as arestas da solução\n",
    "            if (no_atual, prox_no) not in contribuicao_por_aresta: #Se aresta (nó de saída, nó de chegada) não está no dicionário\n",
    "                contribuicao_por_aresta[(no_atual, prox_no)] = 0 #Coloca com contribuição 0\n",
    "            contribuicao_por_aresta[(no_atual, prox_no)] += f.contribuicao #Soma a contribuição da formiga na aresta\n",
    "            no_atual = prox_no #Próxima aresta\n",
    "    return contribuicao_por_aresta #Retorna dicionário\n",
    "\n",
    "def aumenta_feromonio(formigas): #Aumenta o feromônio das arestas\n",
    "    evaporacao_todas_arestas()\n",
    "    \n",
    "    contribuicao_por_aresta = soma_contribuicao(formigas) #Pega contribuição por aresta\n",
    "    for aresta in contribuicao_por_aresta: #Para cada aresta\n",
    "        saida = aresta[0] #Nó de saída\n",
    "        chegada = aresta[1] #Nó de chegada\n",
    "        if chegada in saida.direcionadas: #Se está nas direcionadas\n",
    "            index = np.where(saida.direcionadas == chegada)[0] #Adiciona feromônio no índice certo (pode não ser 0 no nó inicial)\n",
    "            saida.feromonio_dir[index] = contribuicao_por_aresta[aresta] + saida.feromonio_dir[index]\n",
    "        else: #Se estiver nas não direcionadas\n",
    "            index = np.where(saida.nao_direcionadas == chegada)[0] #Adiciona feromônio no índice certo\n",
    "            saida.feromonio_nao_dir[index] = contribuicao_por_aresta[aresta] + saida.feromonio_nao_dir[index]"
   ]
  },
  {
   "cell_type": "markdown",
   "metadata": {},
   "source": [
    "## Ciclos"
   ]
  },
  {
   "cell_type": "code",
   "execution_count": 12,
   "metadata": {},
   "outputs": [],
   "source": [
    "def cria_pop(): #Cria população de formigas\n",
    "    solucoes = np.array([])\n",
    "    while len(solucoes) < num_ants: #Cria todas as formigas e colocar no array\n",
    "        formiga = Ant()\n",
    "        formiga.constroi()\n",
    "        solucoes = np.append(solucoes, formiga)\n",
    "    return solucoes\n",
    "\n",
    "def ciclo(): #Executa cada ciclo\n",
    "    formigas = cria_pop() #População de formigas\n",
    "    \n",
    "    min_makespan = -1\n",
    "    for f in formigas: #Acha a formiga com menos makespan\n",
    "        if f.makespan == otimo:\n",
    "            encontrou_otimo += 1\n",
    "            \n",
    "        if (min_makespan > f.makespan) or (min_makespan == -1):\n",
    "            min_makespan = f.makespan\n",
    "            min_formiga = f\n",
    "    \n",
    "    aumenta_feromonio(formigas) #Aumenta feromônios nas arestas\n",
    "    \n",
    "    return min_formiga #Retorna a melhor formiga"
   ]
  },
  {
   "cell_type": "markdown",
   "metadata": {},
   "source": [
    "## Algoritmo"
   ]
  },
  {
   "cell_type": "code",
   "execution_count": 13,
   "metadata": {
    "scrolled": true
   },
   "outputs": [],
   "source": [
    "media = 0\n",
    "d_padrao = 0\n",
    "def algoritmo(): #Processa o algoritmo\n",
    "    global media, d_padrao\n",
    "    min_makespan = -1\n",
    "    makespans = np.array([])\n",
    "    for c in range(num_ciclos):\n",
    "        melhor_ciclo = ciclo() #Melhor formiga de cada ciclo\n",
    "        makespans = np.append(makespans, melhor_ciclo.makespan) #Salva os makespans por ciclo\n",
    "        \n",
    "        if min_makespan > melhor_ciclo.makespan or min_makespan == -1: #Se makespan for menor que a menor atual\n",
    "            min_formiga = melhor_ciclo\n",
    "            min_makespan = melhor_ciclo.makespan\n",
    "    \n",
    "    media = np.average(makespans)\n",
    "    d_padrao = np.std(makespans)\n",
    "    return min_formiga #Retorna a melhor formiga de todos os ciclos\n",
    "\n",
    "melhor_plano = algoritmo()"
   ]
  },
  {
   "cell_type": "code",
   "execution_count": 14,
   "metadata": {},
   "outputs": [
    {
     "data": {
      "text/plain": [
       "[(8, 3, 17) (6, 3, 69) (6, 4, 77) (9, 4, 77) (9, 3, 79) (9, 2, 43)\n",
       " (9, 1, 75) (0, 1, 21) (5, 1, 54) (3, 1, 77) (3, 0, 55) (3, 4, 79)\n",
       " (3, 2, 66) (7, 2, 38) (5, 2, 43) (5, 4, 79) (5, 0, 92) (5, 3, 62)\n",
       " (2, 3, 39) (2, 4, 98) (2, 1, 42) (2, 2, 31) (2, 0, 12) (0, 0, 53)\n",
       " (0, 4, 95) (0, 3, 55) (0, 2, 34) (1, 0, 21) (4, 0, 83) (4, 3, 34)\n",
       " (4, 2, 64) (4, 1, 19) (6, 1, 87) (6, 2, 87) (6, 0, 93) (7, 0, 60)\n",
       " (7, 1, 41) (7, 3, 24) (7, 4, 83) (4, 4, 37) (3, 3, 77) (1, 3, 52)\n",
       " (1, 4, 16) (1, 2, 26) (1, 1, 71) (8, 1, 49) (8, 4, 25) (8, 0, 44)\n",
       " (8, 2, 98) (9, 0, 96)], 684, 0.14619883040935672"
      ]
     },
     "execution_count": 14,
     "metadata": {},
     "output_type": "execute_result"
    }
   ],
   "source": [
    "melhor_plano"
   ]
  },
  {
   "cell_type": "code",
   "execution_count": 15,
   "metadata": {},
   "outputs": [
    {
     "name": "stdout",
     "output_type": "stream",
     "text": [
      "Distância do ótimo: 18\n",
      "Encontrou o ótimo: 0 vezes\n",
      "Média por ciclo: 713.7428571428571\n",
      "Desvio padrão por ciclo: 10.94490842392769\n"
     ]
    }
   ],
   "source": [
    "print('Distância do ótimo:', melhor_plano.makespan - otimo)\n",
    "print('Encontrou o ótimo:', encontrou_otimo, 'vezes')\n",
    "print('Média por ciclo:', media)\n",
    "print('Desvio padrão por ciclo:', d_padrao)"
   ]
  }
 ],
 "metadata": {
  "kernelspec": {
   "display_name": "Python 3",
   "language": "python",
   "name": "python3"
  },
  "language_info": {
   "codemirror_mode": {
    "name": "ipython",
    "version": 3
   },
   "file_extension": ".py",
   "mimetype": "text/x-python",
   "name": "python",
   "nbconvert_exporter": "python",
   "pygments_lexer": "ipython3",
   "version": "3.8.5"
  }
 },
 "nbformat": 4,
 "nbformat_minor": 4
}
