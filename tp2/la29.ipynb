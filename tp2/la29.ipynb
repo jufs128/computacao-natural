{
 "cells": [
  {
   "cell_type": "markdown",
   "metadata": {},
   "source": [
    "# Trabalho Prático 2 - ACO para o problema do JSS\n",
    "## Júlia Fonseca de Sena - 2018054508"
   ]
  },
  {
   "cell_type": "code",
   "execution_count": 1,
   "metadata": {},
   "outputs": [],
   "source": [
    "import numpy as np\n",
    "import random\n",
    "from collections import defaultdict\n",
    "import matplotlib.pyplot as plt"
   ]
  },
  {
   "cell_type": "markdown",
   "metadata": {},
   "source": [
    "## Leitura do arquivo de entrada"
   ]
  },
  {
   "cell_type": "code",
   "execution_count": 2,
   "metadata": {},
   "outputs": [
    {
     "name": "stdout",
     "output_type": "stream",
     "text": [
      "Linhas do arquivo:\n",
      "['Lawrence 20x10 instance (Table 8, instance 4); also called (setc4) or (C4)'\n",
      " '20 10' '8 14 2 38 7 44 0 76 5 97 3 12 4 75 6 66 9 12 1 29'\n",
      " '0 43 2 85 3 82 5 38 4 58 9 89 8 92 6 87 7 69 1 80'\n",
      " '3 41 7  7 9  5 0 43 2 14 4  8 5 61 1 84 8 66 6 48'\n",
      " '2 42 3 74 4 59 6 41 1  8 9 73 8 43 0 96 5 19 7 97'\n",
      " '7 23 8 42 4 37 6 55 0  7 5  5 2 70 9 38 3 75 1 48'\n",
      " '8  9 6 43 7 31 4 25 5 73 3 95 0 79 2 72 9 60 1 56'\n",
      " '1  7 5 21 8 53 6 16 4 94 0 97 3 78 2 64 7 86 9 31'\n",
      " '2 65 6 59 7 85 1 33 4 30 8 44 0 61 3 86 9 63 5 32'\n",
      " '6 45 2 44 5 61 8 93 1 30 7 90 9 84 4 11 3 16 0 60'\n",
      " '4 47 7 36 8 31 1 49 3 20 2 28 6 52 9 35 5 11 0 32'\n",
      " '2 77 4 10 9 68 5 17 0 85 1 84 8 20 6 49 7 74 3 34'\n",
      " '0 17 5  7 1 85 3 29 2 17 4 76 6 59 8 71 9 13 7 48'\n",
      " '6 87 4 39 8 43 7 11 2 15 3 32 5 64 0 19 1 39 9 16'\n",
      " '5 33 3 99 6 32 4 91 8 82 2 92 9 99 7 57 1 83 0  8'\n",
      " '3 91 5 39 2 69 8 27 7  7 6 21 1 38 9 62 4 88 0 48'\n",
      " '2 67 7 80 3 24 0 88 4 18 1 44 8 45 9 64 5 80 6 38'\n",
      " '9 59 3 72 6 47 4 40 7 21 5 43 0 51 8 52 1 24 2 15'\n",
      " '3 70 2 31 6 20 8 76 1 40 7 43 0 32 5 88 9  5 4 77'\n",
      " '4 47 5 64 9 85 3 49 7 58 1 26 0 32 8 80 2 14 6 94'\n",
      " '5 59 2 96 0  5 7 79 8 34 4 75 3 26 6  9 9 23 1 11']\n"
     ]
    }
   ],
   "source": [
    "entrada = 'la29.txt'\n",
    "arq = open(entrada, 'r')\n",
    "arq_data = np.array([])\n",
    "for x in arq: #Guarda todas as linhas do arquivo em um array\n",
    "    arq_data = np.append(arq_data, x.strip())\n",
    "\n",
    "print('Linhas do arquivo:')    \n",
    "print(arq_data)"
   ]
  },
  {
   "cell_type": "code",
   "execution_count": 3,
   "metadata": {},
   "outputs": [
    {
     "name": "stdout",
     "output_type": "stream",
     "text": [
      "Número de máquinas e jobs: 10 20\n"
     ]
    }
   ],
   "source": [
    "if not arq_data[0][0].isdigit(): #No caso da primeira linha da instância ser o título (não foi especificado)\n",
    "    arq_data = np.delete(arq_data, 0)\n",
    "\n",
    "#Lê a primeira linha\n",
    "data = arq_data[0].split() #Lista de palavras da string\n",
    "num_jobs = int(data[0]) #Primeiro o número de jobs\n",
    "num_maq = int(data[1]) #Depois o número de máquinas\n",
    "arq_data = np.delete(arq_data, 0) #Já processada, retira linha do array\n",
    "\n",
    "print('Número de máquinas e jobs:', num_maq, num_jobs)"
   ]
  },
  {
   "cell_type": "code",
   "execution_count": 4,
   "metadata": {},
   "outputs": [
    {
     "name": "stdout",
     "output_type": "stream",
     "text": [
      "Matriz dos jobs:\n"
     ]
    },
    {
     "data": {
      "text/plain": [
       "array([[(8, 14), (2, 38), (7, 44), (0, 76), (5, 97), (3, 12), (4, 75),\n",
       "        (6, 66), (9, 12), (1, 29)],\n",
       "       [(0, 43), (2, 85), (3, 82), (5, 38), (4, 58), (9, 89), (8, 92),\n",
       "        (6, 87), (7, 69), (1, 80)],\n",
       "       [(3, 41), (7, 7), (9, 5), (0, 43), (2, 14), (4, 8), (5, 61),\n",
       "        (1, 84), (8, 66), (6, 48)],\n",
       "       [(2, 42), (3, 74), (4, 59), (6, 41), (1, 8), (9, 73), (8, 43),\n",
       "        (0, 96), (5, 19), (7, 97)],\n",
       "       [(7, 23), (8, 42), (4, 37), (6, 55), (0, 7), (5, 5), (2, 70),\n",
       "        (9, 38), (3, 75), (1, 48)],\n",
       "       [(8, 9), (6, 43), (7, 31), (4, 25), (5, 73), (3, 95), (0, 79),\n",
       "        (2, 72), (9, 60), (1, 56)],\n",
       "       [(1, 7), (5, 21), (8, 53), (6, 16), (4, 94), (0, 97), (3, 78),\n",
       "        (2, 64), (7, 86), (9, 31)],\n",
       "       [(2, 65), (6, 59), (7, 85), (1, 33), (4, 30), (8, 44), (0, 61),\n",
       "        (3, 86), (9, 63), (5, 32)],\n",
       "       [(6, 45), (2, 44), (5, 61), (8, 93), (1, 30), (7, 90), (9, 84),\n",
       "        (4, 11), (3, 16), (0, 60)],\n",
       "       [(4, 47), (7, 36), (8, 31), (1, 49), (3, 20), (2, 28), (6, 52),\n",
       "        (9, 35), (5, 11), (0, 32)],\n",
       "       [(2, 77), (4, 10), (9, 68), (5, 17), (0, 85), (1, 84), (8, 20),\n",
       "        (6, 49), (7, 74), (3, 34)],\n",
       "       [(0, 17), (5, 7), (1, 85), (3, 29), (2, 17), (4, 76), (6, 59),\n",
       "        (8, 71), (9, 13), (7, 48)],\n",
       "       [(6, 87), (4, 39), (8, 43), (7, 11), (2, 15), (3, 32), (5, 64),\n",
       "        (0, 19), (1, 39), (9, 16)],\n",
       "       [(5, 33), (3, 99), (6, 32), (4, 91), (8, 82), (2, 92), (9, 99),\n",
       "        (7, 57), (1, 83), (0, 8)],\n",
       "       [(3, 91), (5, 39), (2, 69), (8, 27), (7, 7), (6, 21), (1, 38),\n",
       "        (9, 62), (4, 88), (0, 48)],\n",
       "       [(2, 67), (7, 80), (3, 24), (0, 88), (4, 18), (1, 44), (8, 45),\n",
       "        (9, 64), (5, 80), (6, 38)],\n",
       "       [(9, 59), (3, 72), (6, 47), (4, 40), (7, 21), (5, 43), (0, 51),\n",
       "        (8, 52), (1, 24), (2, 15)],\n",
       "       [(3, 70), (2, 31), (6, 20), (8, 76), (1, 40), (7, 43), (0, 32),\n",
       "        (5, 88), (9, 5), (4, 77)],\n",
       "       [(4, 47), (5, 64), (9, 85), (3, 49), (7, 58), (1, 26), (0, 32),\n",
       "        (8, 80), (2, 14), (6, 94)],\n",
       "       [(5, 59), (2, 96), (0, 5), (7, 79), (8, 34), (4, 75), (3, 26),\n",
       "        (6, 9), (9, 23), (1, 11)]], dtype=object)"
      ]
     },
     "execution_count": 4,
     "metadata": {},
     "output_type": "execute_result"
    }
   ],
   "source": [
    "jobs = np.ndarray(shape=(num_jobs,num_maq), dtype=tuple) #Matriz com dados dos trabalhos\n",
    "\n",
    "for i in range(num_jobs): #Para todos os jobs\n",
    "    data = arq_data[i].split() #Lista de palavras da linha\n",
    "    index_data = 0 #Índice na lista de palavras\n",
    "    for j in range(num_maq): #Para toda operação\n",
    "        jobs[i][j] = (int(data[index_data]), int(data[index_data + 1])) #Pega dados sequencialmente\n",
    "        index_data += 2 #Atualiza índice de palavras\n",
    "\n",
    "print('Matriz dos jobs:')\n",
    "jobs"
   ]
  },
  {
   "cell_type": "markdown",
   "metadata": {},
   "source": [
    "## Parâmetros"
   ]
  },
  {
   "cell_type": "code",
   "execution_count": 5,
   "metadata": {},
   "outputs": [],
   "source": [
    "#Inicialização dos parâmetros\n",
    "num_ciclos = 70\n",
    "num_ants = 2*num_jobs + (num_maq-1)*num_jobs + num_jobs*num_maq\n",
    "feromonio_inicial = 0.02\n",
    "\n",
    "alfa = 0.4\n",
    "beta = 0.6\n",
    "evaporacao = 0.7\n",
    "Q = 100"
   ]
  },
  {
   "cell_type": "markdown",
   "metadata": {},
   "source": [
    "## Contadores"
   ]
  },
  {
   "cell_type": "code",
   "execution_count": 6,
   "metadata": {},
   "outputs": [],
   "source": [
    "otimo = 1157\n",
    "encontrou_otimo = 0"
   ]
  },
  {
   "cell_type": "markdown",
   "metadata": {},
   "source": [
    "## Grafo Disjuntivo"
   ]
  },
  {
   "cell_type": "code",
   "execution_count": 7,
   "metadata": {},
   "outputs": [],
   "source": [
    "class No: #Cada nó é uma operação\n",
    "    def __init__(self, job, maquina, tempo, boolean = False):\n",
    "        self.job = job #Número do job\n",
    "        self.maq = maquina #Número da máquina\n",
    "        self.tempo = tempo #Tempo de processamento\n",
    "        \n",
    "        self.direcionadas = np.array([]) #Arestas direcionadas (só é mais que uma para o nó inicial)\n",
    "        self.feromonio_dir = np.array([]) #Feromônio das direcionadas\n",
    "        self.nao_direcionadas = np.array([]) #Arestas não direcionadas\n",
    "        self.feromonio_nao_dir = np.array([]) #Feromônio das não direcionadas\n",
    "\n",
    "        self.pode_usar = boolean #Verifica se operação já pode ser feita (anteriores concluídas)\n",
    "        \n",
    "    def __repr__(self): #Impressão\n",
    "        return f'({self.job}, {self.maq}, {self.tempo})'\n",
    "        \n",
    "    def adiciona_direcionada(self, no, feromonio = feromonio_inicial): #Adiciona uma aresta direcionada\n",
    "        self.direcionadas = np.append(self.direcionadas, no)\n",
    "        self.feromonio_dir = np.append(self.feromonio_dir, feromonio)\n",
    "    \n",
    "    def adiciona_nao_direcionada(self, no, feromonio = feromonio_inicial): #Adiciona uma aresta não direcionada\n",
    "        if no not in self.nao_direcionadas:\n",
    "            self.nao_direcionadas = np.append(self.nao_direcionadas, no)\n",
    "            self.feromonio_nao_dir = np.append(self.feromonio_nao_dir, feromonio)\n",
    "            \n",
    "        if self not in no.nao_direcionadas: #Em ambos nós\n",
    "            no.nao_direcionadas = np.append(no.nao_direcionadas, self)\n",
    "            no.feromonio_nao_dir = np.append(no.feromonio_nao_dir, feromonio)\n",
    "        \n",
    "class Grafo: #Grafo com relação das operações\n",
    "    def __init__(self):\n",
    "        self.inicio = No(-1, -1, -1) #Valores arbitrários para nós de início e fim\n",
    "        self.fim = No(-1, -1, -1)\n",
    "    \n",
    "    def completa_direcionadas(self): #Coloca arestas direcionadas para operações de um mesmo job\n",
    "        for job in range(0, num_jobs):\n",
    "            atual = No(job, jobs[job][0][0], jobs[job][0][1], boolean = True)\n",
    "            self.inicio.adiciona_direcionada(atual) #Do início para a primeira operação\n",
    "            \n",
    "            for op in range(1, num_maq): #Coloca as operações na sequência (cada nó aponta para a operação seguinte)\n",
    "                prox = No(job, jobs[job][op][0], jobs[job][op][1])\n",
    "                atual.adiciona_direcionada(prox)\n",
    "                atual = prox\n",
    "            \n",
    "            atual.adiciona_direcionada(self.fim) #Última aponta para o fim\n",
    "    \n",
    "    def completa_nao_direcionadas(self): #Coloca arestas não direcionadas para operações de uma mesma máquina\n",
    "        for job in range(num_jobs): #Começando pelo primeiro job\n",
    "            no_atual = self.inicio.direcionadas[job]\n",
    "            for op in range(num_maq): #Para cada operação\n",
    "                maq = no_atual.maq\n",
    "                for other_job in range(job+1, num_jobs): #Passa pelos jobs seguintes\n",
    "                    no_comp = self.inicio.direcionadas[other_job]\n",
    "                    for other_op in range(num_maq): #Para todas as operações\n",
    "                        maq_comp = no_comp.maq\n",
    "                        if maq_comp == maq: #Se a máquina for igual\n",
    "                            no_atual.adiciona_nao_direcionada(no_comp) #Cria aresta não direcionada\n",
    "                            break\n",
    "                        no_comp = no_comp.direcionadas[0] #Próxima do job para comparar\n",
    "                no_atual = no_atual.direcionadas[0] #Próxima do job para achar não direcionadas\n",
    "                            \n",
    "    def constroi_grafo(self): #Chama as funções de construção do grafo\n",
    "        self.completa_direcionadas()\n",
    "        self.completa_nao_direcionadas()\n",
    "\n",
    "    def reseta_pode_usar(self): #Reseta pode_usar para valores iniciais (chamado depois da construção de cada formiga)\n",
    "        for job in self.inicio.direcionadas: #A partir da segunda operação de cada job\n",
    "            op = job\n",
    "            while op != self.fim: #Enquanto não chegou no fim\n",
    "                op = op.direcionadas[0]\n",
    "                op.pode_usar = False #Não é alcançável"
   ]
  },
  {
   "cell_type": "code",
   "execution_count": 8,
   "metadata": {},
   "outputs": [],
   "source": [
    "G = Grafo()\n",
    "G.constroi_grafo() #Constrói grafo global"
   ]
  },
  {
   "cell_type": "markdown",
   "metadata": {},
   "source": [
    "## Formigas"
   ]
  },
  {
   "cell_type": "markdown",
   "metadata": {},
   "source": [
    "#### Cálculo da probabilidade das arestas"
   ]
  },
  {
   "cell_type": "code",
   "execution_count": 9,
   "metadata": {},
   "outputs": [],
   "source": [
    "def lrt(arestas): #Heurística LRT\n",
    "    tempo_restante = np.array([]) #Salva o tempo restante dos jobs de cada aresta\n",
    "    for a in arestas:\n",
    "        no = a[0] #Nó é o primeiro elemento da tupla\n",
    "        soma = 0\n",
    "        while no != G.fim: #Enquanto não chegou no fim\n",
    "            soma += no.tempo #Soma tempo ao total\n",
    "            no = no.direcionadas[0] #Próxima operação do job\n",
    "        tempo_restante = np.append(tempo_restante, soma) #Coloca na lista o tempo restante\n",
    "    \n",
    "    N = np.argsort(tempo_restante) #Retorna nos mesmos índices quais tempos são maiores\n",
    "    N += 1 #Adiciona 1 para não ter 0\n",
    "    \n",
    "    return N\n",
    "\n",
    "def probabilidade(arestas): #Retorna a probabilidade de escolher cada aresta\n",
    "    N = lrt(arestas) #Peso de cada aresta pelo índice LPT\n",
    "    \n",
    "    lista_prob = [] #Lista de probabilidade de cada aresta\n",
    "    soma = 0\n",
    "    for i in range(len(arestas)):\n",
    "        lista_prob.append((arestas[i][1] ** alfa) * (N[i] ** beta)) #De cada aresta (feromônio ** 0.2) * (heuristica ** 0.8)\n",
    "        soma += (arestas[i][1] ** alfa) * (N[i] ** beta) #Soma de todas as arestas\n",
    "\n",
    "    return (lista_prob / soma) #Divide todas pela soma\n",
    "\n",
    "def escolha(arestas): #Escolhe uma aresta pra seguir\n",
    "    probs = probabilidade(arestas) #Lista de probabilidades\n",
    "    \n",
    "    p_escolha = random.random() #Número aleatório entre 0 e 1\n",
    "    if p_escolha == 1: #Se for igual a 1\n",
    "        index_escolha = len(possiveis) - 1 #Já escolhe o último\n",
    "    else:\n",
    "        index_escolha = 0 \n",
    "        while p_escolha > probs[index_escolha]: #Se for menor que a probabilidade, não está em seu intervalo\n",
    "            p_escolha -= probs[index_escolha] #Diminui a probabilidade atual do número aleatório escolhido\n",
    "            index_escolha += 1 #Passa para próxima aresta\n",
    "    \n",
    "    return index_escolha"
   ]
  },
  {
   "cell_type": "markdown",
   "metadata": {},
   "source": [
    "#### Classe das formigas"
   ]
  },
  {
   "cell_type": "code",
   "execution_count": 10,
   "metadata": {},
   "outputs": [
    {
     "name": "stdout",
     "output_type": "stream",
     "text": [
      "[(8, 6, 45) (8, 2, 44) (8, 5, 61) (13, 5, 33) (19, 5, 59) (19, 2, 96)\n",
      " (3, 2, 42) (15, 2, 67) (7, 2, 65) (7, 6, 59) (7, 7, 85) (15, 7, 80)\n",
      " (15, 3, 24) (13, 3, 99) (3, 3, 74) (17, 3, 70) (14, 3, 91) (14, 5, 39)\n",
      " (14, 2, 69) (14, 8, 27) (0, 8, 14) (0, 2, 38) (10, 2, 77) (17, 2, 31)\n",
      " (17, 6, 20) (17, 8, 76) (8, 8, 93) (8, 1, 30) (6, 1, 7) (7, 1, 33)\n",
      " (17, 1, 40) (17, 7, 43) (4, 7, 23) (0, 7, 44) (14, 7, 7) (14, 6, 21)\n",
      " (13, 6, 32) (12, 6, 87) (12, 4, 39) (18, 4, 47) (13, 4, 91) (10, 4, 10)\n",
      " (3, 4, 59) (7, 4, 30) (9, 4, 47) (9, 7, 36) (8, 7, 90) (8, 9, 84)\n",
      " (10, 9, 68) (10, 5, 17) (6, 5, 21) (6, 8, 53) (5, 8, 9) (5, 6, 43)\n",
      " (3, 6, 41) (3, 1, 8) (3, 9, 73) (3, 8, 43) (9, 8, 31) (4, 8, 42)\n",
      " (7, 8, 44) (13, 8, 82) (12, 8, 43) (12, 7, 11) (5, 7, 31) (5, 4, 25)\n",
      " (8, 4, 11) (8, 3, 16) (2, 3, 41) (2, 7, 7) (2, 9, 5) (2, 0, 43)\n",
      " (15, 0, 88) (10, 0, 85) (11, 0, 17) (7, 0, 61) (8, 0, 60) (3, 0, 96)\n",
      " (3, 5, 19) (18, 5, 64) (18, 9, 85) (16, 9, 59) (16, 3, 72) (16, 6, 47)\n",
      " (6, 6, 16) (6, 4, 94) (15, 4, 18) (16, 4, 40) (16, 7, 21) (16, 5, 43)\n",
      " (5, 5, 73) (11, 5, 7) (11, 1, 85) (9, 1, 49) (10, 1, 84) (14, 1, 38)\n",
      " (14, 9, 62) (14, 4, 88) (4, 4, 37) (4, 6, 55) (4, 0, 7) (16, 0, 51)\n",
      " (0, 0, 76) (6, 0, 97) (17, 0, 32) (14, 0, 48) (1, 0, 43) (1, 2, 85)\n",
      " (1, 3, 82) (11, 3, 29) (11, 2, 17) (13, 2, 92) (12, 2, 15) (2, 2, 14)\n",
      " (2, 4, 8) (11, 4, 76) (11, 6, 59) (11, 8, 71) (16, 8, 52) (10, 8, 20)\n",
      " (10, 6, 49) (10, 7, 74) (3, 7, 97) (12, 3, 32) (18, 3, 49) (18, 7, 58)\n",
      " (18, 1, 26) (16, 1, 24) (15, 1, 44) (15, 8, 45) (15, 9, 64) (13, 9, 99)\n",
      " (13, 7, 57) (13, 1, 83) (13, 0, 8) (18, 0, 32) (19, 0, 5) (19, 7, 79)\n",
      " (19, 8, 34) (19, 4, 75) (19, 3, 26) (6, 3, 78) (6, 2, 64) (16, 2, 15)\n",
      " (17, 5, 88) (17, 9, 5) (11, 9, 13) (11, 7, 48) (6, 7, 86) (6, 9, 31)\n",
      " (7, 3, 86) (9, 3, 20) (5, 3, 95) (5, 0, 79) (5, 2, 72) (5, 9, 60)\n",
      " (7, 9, 63) (7, 5, 32) (0, 5, 97) (4, 5, 5) (4, 2, 70) (4, 9, 38)\n",
      " (4, 3, 75) (0, 3, 12) (0, 4, 75) (0, 6, 66) (0, 9, 12) (0, 1, 29)\n",
      " (5, 1, 56) (4, 1, 48) (17, 4, 77) (1, 5, 38) (1, 4, 58) (1, 9, 89)\n",
      " (1, 8, 92) (1, 6, 87) (1, 7, 69) (1, 1, 80) (12, 5, 64) (12, 0, 19)\n",
      " (12, 1, 39) (12, 9, 16) (15, 5, 80) (2, 5, 61) (2, 1, 84) (2, 8, 66)\n",
      " (18, 8, 80) (18, 2, 14) (9, 2, 28) (9, 6, 52) (19, 6, 9) (18, 6, 94)\n",
      " (15, 6, 38) (2, 6, 48) (19, 9, 23) (19, 1, 11) (9, 9, 35) (9, 5, 11)\n",
      " (9, 0, 32) (10, 3, 34)], 1667, 0.059988002399520096\n",
      "\n"
     ]
    }
   ],
   "source": [
    "class Ant: #Formiga\n",
    "    def __init__(self):\n",
    "        self.tabu = np.array([]) #Sequência de nós\n",
    "        self.makespan = 0 #Makespan\n",
    "        self.contribuicao = 0 #Contribuição no feromônio\n",
    "    \n",
    "    def __repr__(self): #Impressão\n",
    "        return f'{self.tabu}, {self.makespan}, {self.contribuicao}\\n'\n",
    "    \n",
    "    def constroi_solucao(self): #Constroi solução\n",
    "        index = escolha(list(zip(G.inicio.direcionadas, G.inicio.feromonio_dir))) #Escolha inicial\n",
    "        job_possiveis = np.copy(G.inicio.direcionadas) #Operações possíveis de cada job\n",
    "        no_atual = G.inicio.direcionadas[index] #Primeiro nó escolhido\n",
    "        \n",
    "        while len(job_possiveis) > 0: #Enquanto ainda houver operações possíveis para algum job\n",
    "            if no_atual.direcionadas[0] != G.fim: #Se direcionada não apontar para o fim\n",
    "                job_possiveis[np.where(job_possiveis == no_atual)[0]] = no_atual.direcionadas[0] #Atualiza operação do job para a próxima\n",
    "                no_atual.direcionadas[0].pode_usar = True #Pode usar a próxima\n",
    "            else: #Se é o fim do grafo\n",
    "                job_possiveis = np.delete(job_possiveis, np.where(job_possiveis == no_atual)) #Tira job do vetor\n",
    "                    \n",
    "            self.tabu = np.append(self.tabu, no_atual) #Coloca o nó atual no tabu\n",
    "            \n",
    "            possiveis = [] #Lista com arestas possíveis para seguir\n",
    "            if no_atual.direcionadas[0].pode_usar == True: #Se pode seguir a direcionada (não pode se for fim do grafo)\n",
    "                possiveis.append((no_atual.direcionadas[0], no_atual.feromonio_dir[0])) #Coloca na lista de possíveis\n",
    "                    \n",
    "            for i in range(num_jobs - 1): #Coloca as não direcionadas que já podem ser processadas\n",
    "                no = no_atual.nao_direcionadas[i]\n",
    "                if no.pode_usar == True and no not in self.tabu:\n",
    "                    possiveis.append((no, no_atual.feromonio_nao_dir[i]))\n",
    "                \n",
    "            if len(possiveis) == 0 and len(self.tabu) < num_jobs*num_maq: #Se não há alcançáveis do nó mas não passou por todos ainda\n",
    "                index_escolha = random.randint(0, len(job_possiveis)-1) #Escolhe um aleatório entre as operações possíveis\n",
    "                no_atual = job_possiveis[index_escolha]\n",
    "            elif len(possiveis) > 0: #Se há arestas possíveis\n",
    "                index_escolha = escolha(possiveis) #Escolhe de acordo com as probabilidades da aresta\n",
    "                no_atual = possiveis[index_escolha][0]\n",
    "            \n",
    "        G.reseta_pode_usar() #Depois de construir, reseta as operações alcançáveis\n",
    "    \n",
    "    def calcula_makespan(self): #Calcula o makespan da solução encontrada\n",
    "        jobs_tempo = []\n",
    "        for i in range(num_jobs): #O tempo final atual de cada job\n",
    "            jobs_tempo.append(0) #Inicial é 0\n",
    "        \n",
    "        maquinas_tempo = defaultdict(list) #O tempo final de cada máquina\n",
    "        \n",
    "        for op in self.tabu: #Para a sequência de operações no tabu\n",
    "            comeco_computacao = max(maquinas_tempo[op.maq], default = 0) \n",
    "            maquinas_tempo[op.maq].append(op.tempo)\n",
    "            fim_computacao = comeco_computacao + op.tempo\n",
    "            jobs_tempo[op.job] += fim_computacao\n",
    "        \n",
    "        self.makespan = max(jobs_tempo) #O job que com maior tempo de fim é \n",
    "        \n",
    "    def calcula_adicao_feromonio(self): #Calcula a contribuição para as arestas da solução\n",
    "        self.contribuicao = Q/self.makespan\n",
    "    \n",
    "    def constroi(self): #Chama as funções para a construção da formiga\n",
    "        self.constroi_solucao()\n",
    "        self.calcula_makespan()\n",
    "        self.calcula_adicao_feromonio()\n",
    "\n",
    "formiga = Ant()\n",
    "formiga.constroi()\n",
    "print(formiga)"
   ]
  },
  {
   "cell_type": "markdown",
   "metadata": {},
   "source": [
    "## Adição de feromônio"
   ]
  },
  {
   "cell_type": "code",
   "execution_count": 11,
   "metadata": {
    "scrolled": false
   },
   "outputs": [],
   "source": [
    "def evaporacao_todas_arestas(): #Evapora para todas as arestas\n",
    "    G.inicio.feromonio_dir *= evaporacao #Multiplica pela evaporação as iniciais\n",
    "    G.inicio.feromonio_nao_dir *= evaporacao \n",
    "    \n",
    "    for job in G.inicio.direcionadas: #Para todos os jobs\n",
    "        no_atual = job\n",
    "        while no_atual != G.fim: #Passa por todas as operações e atualiza as arestas\n",
    "            no_atual.feromonio_dir *= evaporacao\n",
    "            no_atual.feromonio_nao_dir *= evaporacao\n",
    "            no_atual = no_atual.direcionadas[0] #Próxima operação do job\n",
    "\n",
    "def soma_contribuicao(formigas): #Soma quanto deve ser adicionado para cada aresta\n",
    "    contribuicao_por_aresta = {}\n",
    "    for f in formigas: #Para toda formiga\n",
    "        no_atual = G.inicio\n",
    "        for prox_no in f.tabu: #Para todas as arestas da solução\n",
    "            if (no_atual, prox_no) not in contribuicao_por_aresta: #Se aresta (nó de saída, nó de chegada) não está no dicionário\n",
    "                contribuicao_por_aresta[(no_atual, prox_no)] = 0 #Coloca com contribuição 0\n",
    "            contribuicao_por_aresta[(no_atual, prox_no)] += f.contribuicao #Soma a contribuição da formiga na aresta\n",
    "            no_atual = prox_no #Próxima aresta\n",
    "    return contribuicao_por_aresta #Retorna dicionário\n",
    "\n",
    "def aumenta_feromonio(formigas): #Aumenta o feromônio das arestas\n",
    "    evaporacao_todas_arestas()\n",
    "    \n",
    "    contribuicao_por_aresta = soma_contribuicao(formigas) #Pega contribuição por aresta\n",
    "    for aresta in contribuicao_por_aresta: #Para cada aresta\n",
    "        saida = aresta[0] #Nó de saída\n",
    "        chegada = aresta[1] #Nó de chegada\n",
    "        if chegada in saida.direcionadas: #Se está nas direcionadas\n",
    "            index = np.where(saida.direcionadas == chegada)[0] #Adiciona feromônio no índice certo (pode não ser 0 no nó inicial)\n",
    "            saida.feromonio_dir[index] = contribuicao_por_aresta[aresta] + saida.feromonio_dir[index]\n",
    "        else: #Se estiver nas não direcionadas\n",
    "            index = np.where(saida.nao_direcionadas == chegada)[0] #Adiciona feromônio no índice certo\n",
    "            saida.feromonio_nao_dir[index] = contribuicao_por_aresta[aresta] + saida.feromonio_nao_dir[index]"
   ]
  },
  {
   "cell_type": "markdown",
   "metadata": {},
   "source": [
    "## Ciclos"
   ]
  },
  {
   "cell_type": "code",
   "execution_count": 12,
   "metadata": {},
   "outputs": [],
   "source": [
    "def cria_pop(): #Cria população de formigas\n",
    "    solucoes = np.array([])\n",
    "    while len(solucoes) < num_ants: #Cria todas as formigas e colocar no array\n",
    "        formiga = Ant()\n",
    "        formiga.constroi()\n",
    "        solucoes = np.append(solucoes, formiga)\n",
    "    return solucoes\n",
    "\n",
    "def ciclo(): #Executa cada ciclo\n",
    "    formigas = cria_pop() #População de formigas\n",
    "    \n",
    "    min_makespan = -1\n",
    "    for f in formigas: #Acha a formiga com menos makespan\n",
    "        if f.makespan == otimo:\n",
    "            encontrou_otimo += 1\n",
    "            \n",
    "        if (min_makespan > f.makespan) or (min_makespan == -1):\n",
    "            min_makespan = f.makespan\n",
    "            min_formiga = f\n",
    "    \n",
    "    aumenta_feromonio(formigas) #Aumenta feromônios nas arestas\n",
    "    \n",
    "    return min_formiga #Retorna a melhor formiga"
   ]
  },
  {
   "cell_type": "markdown",
   "metadata": {},
   "source": [
    "## Algoritmo"
   ]
  },
  {
   "cell_type": "code",
   "execution_count": 13,
   "metadata": {
    "scrolled": true
   },
   "outputs": [],
   "source": [
    "media = 0\n",
    "d_padrao = 0\n",
    "def algoritmo(): #Processa o algoritmo\n",
    "    global media, d_padrao\n",
    "    min_makespan = -1\n",
    "    makespans = np.array([])\n",
    "    for c in range(num_ciclos):\n",
    "        melhor_ciclo = ciclo() #Melhor formiga de cada ciclo\n",
    "        makespans = np.append(makespans, melhor_ciclo.makespan) #Salva os makespans por ciclo\n",
    "        \n",
    "        if min_makespan > melhor_ciclo.makespan or min_makespan == -1: #Se makespan for menor que a menor atual\n",
    "            min_formiga = melhor_ciclo\n",
    "            min_makespan = melhor_ciclo.makespan\n",
    "    \n",
    "    media = np.average(makespans)\n",
    "    d_padrao = np.std(makespans)\n",
    "    return min_formiga #Retorna a melhor formiga de todos os ciclos\n",
    "\n",
    "melhor_plano = algoritmo()"
   ]
  },
  {
   "cell_type": "code",
   "execution_count": 14,
   "metadata": {},
   "outputs": [
    {
     "data": {
      "text/plain": [
       "[(1, 0, 43) (1, 2, 85) (1, 3, 82) (17, 3, 70) (14, 3, 91) (14, 5, 39)\n",
       " (13, 5, 33) (13, 3, 99) (13, 6, 32) (13, 4, 91) (18, 4, 47) (18, 5, 64)\n",
       " (18, 9, 85) (18, 3, 49) (2, 3, 41) (2, 7, 7) (2, 9, 5) (2, 0, 43)\n",
       " (2, 2, 14) (10, 2, 77) (3, 2, 42) (7, 2, 65) (7, 6, 59) (7, 7, 85)\n",
       " (7, 1, 33) (7, 4, 30) (10, 4, 10) (10, 9, 68) (10, 5, 17) (10, 0, 85)\n",
       " (11, 0, 17) (11, 5, 7) (11, 1, 85) (6, 1, 7) (6, 5, 21) (6, 8, 53)\n",
       " (0, 8, 14) (7, 8, 44) (7, 0, 61) (7, 3, 86) (11, 3, 29) (11, 2, 17)\n",
       " (17, 2, 31) (15, 2, 67) (15, 7, 80) (15, 3, 24) (15, 0, 88) (15, 4, 18)\n",
       " (15, 1, 44) (15, 8, 45) (13, 8, 82) (5, 8, 9) (5, 6, 43) (5, 7, 31)\n",
       " (4, 7, 23) (4, 8, 42) (4, 4, 37) (9, 4, 47) (9, 7, 36) (9, 8, 31)\n",
       " (9, 1, 49) (9, 3, 20) (9, 2, 28) (9, 6, 52) (8, 6, 45) (4, 6, 55)\n",
       " (17, 6, 20) (17, 8, 76) (17, 1, 40) (10, 1, 84) (10, 8, 20) (10, 6, 49)\n",
       " (10, 7, 74) (10, 3, 34) (3, 3, 74) (3, 4, 59) (3, 6, 41) (6, 6, 16)\n",
       " (6, 4, 94) (2, 4, 8) (5, 4, 25) (5, 5, 73) (5, 3, 95) (5, 0, 79)\n",
       " (5, 2, 72) (5, 9, 60) (7, 9, 63) (9, 9, 35) (16, 9, 59) (16, 3, 72)\n",
       " (16, 6, 47) (12, 6, 87) (12, 4, 39) (12, 8, 43) (12, 7, 11) (12, 2, 15)\n",
       " (14, 2, 69) (8, 2, 44) (8, 5, 61) (8, 8, 93) (8, 1, 30) (3, 1, 8)\n",
       " (3, 9, 73) (3, 8, 43) (3, 0, 96) (3, 5, 19) (3, 7, 97) (8, 7, 90)\n",
       " (18, 7, 58) (18, 1, 26) (18, 0, 32) (4, 0, 7) (4, 5, 5) (19, 5, 59)\n",
       " (19, 2, 96) (19, 0, 5) (6, 0, 97) (6, 3, 78) (6, 2, 64) (0, 2, 38)\n",
       " (13, 2, 92) (13, 9, 99) (8, 9, 84) (8, 4, 11) (11, 4, 76) (16, 4, 40)\n",
       " (16, 7, 21) (16, 5, 43) (16, 0, 51) (16, 8, 52) (16, 1, 24) (16, 2, 15)\n",
       " (4, 2, 70) (4, 9, 38) (15, 9, 64) (15, 5, 80) (2, 5, 61) (1, 5, 38)\n",
       " (1, 4, 58) (1, 9, 89) (1, 8, 92) (1, 6, 87) (1, 7, 69) (1, 1, 80)\n",
       " (2, 1, 84) (2, 8, 66) (14, 8, 27) (14, 7, 7) (14, 6, 21) (14, 1, 38)\n",
       " (14, 9, 62) (14, 4, 88) (14, 0, 48) (15, 6, 38) (11, 6, 59) (11, 8, 71)\n",
       " (11, 9, 13) (11, 7, 48) (17, 7, 43) (17, 0, 32) (17, 5, 88) (17, 9, 5)\n",
       " (17, 4, 77) (2, 6, 48) (9, 5, 11) (7, 5, 32) (5, 1, 56) (13, 7, 57)\n",
       " (0, 7, 44) (0, 0, 76) (0, 5, 97) (0, 3, 12) (0, 4, 75) (0, 6, 66)\n",
       " (0, 9, 12) (0, 1, 29) (13, 1, 83) (13, 0, 8) (9, 0, 32) (18, 8, 80)\n",
       " (18, 2, 14) (18, 6, 94) (12, 3, 32) (12, 5, 64) (12, 0, 19) (12, 1, 39)\n",
       " (12, 9, 16) (8, 3, 16) (8, 0, 60) (19, 7, 79) (19, 8, 34) (19, 4, 75)\n",
       " (19, 3, 26) (19, 6, 9) (19, 9, 23) (19, 1, 11) (4, 3, 75) (4, 1, 48)\n",
       " (6, 7, 86) (6, 9, 31)], 1404, 0.07122507122507123"
      ]
     },
     "execution_count": 14,
     "metadata": {},
     "output_type": "execute_result"
    }
   ],
   "source": [
    "melhor_plano"
   ]
  },
  {
   "cell_type": "code",
   "execution_count": 15,
   "metadata": {},
   "outputs": [
    {
     "name": "stdout",
     "output_type": "stream",
     "text": [
      "Distância do ótimo: 247\n",
      "Encontrou o ótimo: 0 vezes\n",
      "Média por ciclo: 1436.3285714285714\n",
      "Desvio padrão por ciclo: 9.935105763433636\n"
     ]
    }
   ],
   "source": [
    "print('Distância do ótimo:', melhor_plano.makespan - otimo)\n",
    "print('Encontrou o ótimo:', encontrou_otimo, 'vezes')\n",
    "print('Média por ciclo:', media)\n",
    "print('Desvio padrão por ciclo:', d_padrao)"
   ]
  }
 ],
 "metadata": {
  "kernelspec": {
   "display_name": "Python 3",
   "language": "python",
   "name": "python3"
  },
  "language_info": {
   "codemirror_mode": {
    "name": "ipython",
    "version": 3
   },
   "file_extension": ".py",
   "mimetype": "text/x-python",
   "name": "python",
   "nbconvert_exporter": "python",
   "pygments_lexer": "ipython3",
   "version": "3.8.5"
  }
 },
 "nbformat": 4,
 "nbformat_minor": 4
}
