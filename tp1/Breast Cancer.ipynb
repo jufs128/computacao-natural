{
 "cells": [
  {
   "cell_type": "markdown",
   "metadata": {},
   "source": [
    "# TP1 - Programação Genética\n",
    "## Júlia Fonseca de Sena - 2018054508"
   ]
  },
  {
   "cell_type": "code",
   "execution_count": 1,
   "metadata": {},
   "outputs": [],
   "source": [
    "# Manipulação dos dados\n",
    "import pandas as pd\n",
    "import numpy as np\n",
    "from copy import deepcopy\n",
    "\n",
    "#Obtenção de números aleatórios\n",
    "import random\n",
    "\n",
    "# Métrica v_measure_score\n",
    "from sklearn.metrics.cluster import v_measure_score\n",
    "\n",
    "#Clusters hierarquicos\n",
    "from sklearn.cluster import AgglomerativeClustering\n",
    "from sklearn.metrics import pairwise_distances\n",
    "\n",
    "#Medir tempo\n",
    "import time\n",
    "\n",
    "#Coletor de lixo\n",
    "import gc\n",
    "\n",
    "#Gráfico\n",
    "import matplotlib.pyplot as plt"
   ]
  },
  {
   "cell_type": "markdown",
   "metadata": {},
   "source": [
    "# Parâmetros globais"
   ]
  },
  {
   "cell_type": "code",
   "execution_count": 2,
   "metadata": {},
   "outputs": [],
   "source": [
    "#Tamanho da população\n",
    "pop_size = 50\n",
    "\n",
    "#Número de gerações\n",
    "num_gen = 50\n",
    "\n",
    "#Probabilidade dos operadores\n",
    "p_crossover = 0.6\n",
    "p_mutation = 0.3\n",
    "\n",
    "#Tamanho do torneio\n",
    "tournament_size = 5\n",
    "\n",
    "#Classes de dados\n",
    "class_df = 2\n",
    "\n",
    "#Elitismo\n",
    "flag_elitism = False"
   ]
  },
  {
   "cell_type": "markdown",
   "metadata": {},
   "source": [
    "# Breast Cancer"
   ]
  },
  {
   "cell_type": "markdown",
   "metadata": {},
   "source": [
    "## Treino\n",
    "### Importar base de dados"
   ]
  },
  {
   "cell_type": "code",
   "execution_count": 3,
   "metadata": {},
   "outputs": [
    {
     "data": {
      "text/html": [
       "<div>\n",
       "<style scoped>\n",
       "    .dataframe tbody tr th:only-of-type {\n",
       "        vertical-align: middle;\n",
       "    }\n",
       "\n",
       "    .dataframe tbody tr th {\n",
       "        vertical-align: top;\n",
       "    }\n",
       "\n",
       "    .dataframe thead th {\n",
       "        text-align: right;\n",
       "    }\n",
       "</style>\n",
       "<table border=\"1\" class=\"dataframe\">\n",
       "  <thead>\n",
       "    <tr style=\"text-align: right;\">\n",
       "      <th></th>\n",
       "      <th>Age</th>\n",
       "      <th>BMI</th>\n",
       "      <th>Glucose</th>\n",
       "      <th>Insulin</th>\n",
       "      <th>HOMA</th>\n",
       "      <th>Leptin</th>\n",
       "      <th>Adiponectin</th>\n",
       "      <th>Resistin</th>\n",
       "      <th>MCP.1</th>\n",
       "      <th>Classification</th>\n",
       "    </tr>\n",
       "  </thead>\n",
       "  <tbody>\n",
       "    <tr>\n",
       "      <th>0</th>\n",
       "      <td>44</td>\n",
       "      <td>20.760000</td>\n",
       "      <td>86</td>\n",
       "      <td>7.553</td>\n",
       "      <td>1.600000</td>\n",
       "      <td>14.0900</td>\n",
       "      <td>20.320000</td>\n",
       "      <td>7.64000</td>\n",
       "      <td>63.610</td>\n",
       "      <td>1</td>\n",
       "    </tr>\n",
       "    <tr>\n",
       "      <th>1</th>\n",
       "      <td>46</td>\n",
       "      <td>20.830000</td>\n",
       "      <td>88</td>\n",
       "      <td>3.420</td>\n",
       "      <td>0.742368</td>\n",
       "      <td>12.8700</td>\n",
       "      <td>18.550000</td>\n",
       "      <td>13.56000</td>\n",
       "      <td>301.210</td>\n",
       "      <td>2</td>\n",
       "    </tr>\n",
       "    <tr>\n",
       "      <th>2</th>\n",
       "      <td>53</td>\n",
       "      <td>36.790166</td>\n",
       "      <td>101</td>\n",
       "      <td>10.175</td>\n",
       "      <td>2.534932</td>\n",
       "      <td>27.1841</td>\n",
       "      <td>20.030000</td>\n",
       "      <td>10.26309</td>\n",
       "      <td>695.754</td>\n",
       "      <td>1</td>\n",
       "    </tr>\n",
       "    <tr>\n",
       "      <th>3</th>\n",
       "      <td>54</td>\n",
       "      <td>30.483158</td>\n",
       "      <td>90</td>\n",
       "      <td>5.537</td>\n",
       "      <td>1.229214</td>\n",
       "      <td>12.3310</td>\n",
       "      <td>9.731380</td>\n",
       "      <td>10.19299</td>\n",
       "      <td>1227.910</td>\n",
       "      <td>1</td>\n",
       "    </tr>\n",
       "    <tr>\n",
       "      <th>4</th>\n",
       "      <td>34</td>\n",
       "      <td>24.242424</td>\n",
       "      <td>92</td>\n",
       "      <td>21.699</td>\n",
       "      <td>4.924226</td>\n",
       "      <td>16.7353</td>\n",
       "      <td>21.823745</td>\n",
       "      <td>12.06534</td>\n",
       "      <td>481.949</td>\n",
       "      <td>2</td>\n",
       "    </tr>\n",
       "  </tbody>\n",
       "</table>\n",
       "</div>"
      ],
      "text/plain": [
       "   Age        BMI  Glucose  Insulin      HOMA   Leptin  Adiponectin  Resistin  \\\n",
       "0   44  20.760000       86    7.553  1.600000  14.0900    20.320000   7.64000   \n",
       "1   46  20.830000       88    3.420  0.742368  12.8700    18.550000  13.56000   \n",
       "2   53  36.790166      101   10.175  2.534932  27.1841    20.030000  10.26309   \n",
       "3   54  30.483158       90    5.537  1.229214  12.3310     9.731380  10.19299   \n",
       "4   34  24.242424       92   21.699  4.924226  16.7353    21.823745  12.06534   \n",
       "\n",
       "      MCP.1  Classification  \n",
       "0    63.610               1  \n",
       "1   301.210               2  \n",
       "2   695.754               1  \n",
       "3  1227.910               1  \n",
       "4   481.949               2  "
      ]
     },
     "execution_count": 3,
     "metadata": {},
     "output_type": "execute_result"
    }
   ],
   "source": [
    "df = pd.read_csv('breast_cancer_coimbra_train.csv')\n",
    "\n",
    "#A última coluna é a classificação real, usada somente para o fitness\n",
    "result_column = df.columns[len(df.columns)-1]\n",
    "\n",
    "X = df.drop([result_column], axis=1)\n",
    "df.head()"
   ]
  },
  {
   "cell_type": "markdown",
   "metadata": {},
   "source": [
    "### Definir funções e terminais "
   ]
  },
  {
   "cell_type": "code",
   "execution_count": 4,
   "metadata": {},
   "outputs": [
    {
     "data": {
      "text/plain": [
       "array(['P10', 'P11', 'P12', 'P13', 'P14', 'P15', 'P16', 'P17', 'P18',\n",
       "       'P20', 'P21', 'P22', 'P23', 'P24', 'P25', 'P26', 'P27', 'P28'],\n",
       "      dtype='<U32')"
      ]
     },
     "execution_count": 4,
     "metadata": {},
     "output_type": "execute_result"
    }
   ],
   "source": [
    "functions = np.array(['+', '-', '/', 'x'])\n",
    "\n",
    "#2 * numero de colunas = numero de terminais (todos os parâmetros de cada ponto das operações)\n",
    "terminals = np.array([])\n",
    "for i in ['P1','P2']: #Os dois primeiros caracteres da string dos terminais indicam o ponto a que se refere\n",
    "    point = i\n",
    "    for j in range(X.shape[1]):\n",
    "        terminals = np.append(terminals,[point+str(j)])\n",
    "terminals"
   ]
  },
  {
   "cell_type": "code",
   "execution_count": 5,
   "metadata": {},
   "outputs": [],
   "source": [
    "def is_function(value): #Verifica se o valor passado é uma função\n",
    "    if value in functions:\n",
    "        return True\n",
    "    \n",
    "    return False"
   ]
  },
  {
   "cell_type": "markdown",
   "metadata": {},
   "source": [
    "### Representação do indivíduo"
   ]
  },
  {
   "cell_type": "code",
   "execution_count": 6,
   "metadata": {},
   "outputs": [],
   "source": [
    "class Node: #Nó da árvore\n",
    "    def __init__(self, data):\n",
    "        self.left = None \n",
    "        self.right = None\n",
    "        self.data = data #String de uma função ou terminal\n",
    "\n",
    "        \n",
    "class Tree: #Árvore; representa a solução\n",
    "    def __init__(self):\n",
    "        self.root = Node(' ') #Inicializa a raiz com valor ' '\n",
    "        self.height = 0 #Altura inicialmente 0\n",
    "            \n",
    "    def insert_functions(self, function): #Coloca função na solução\n",
    "        if (self.root.data == ' '): #Se a raiz ainda não foi alterada\n",
    "            self.root.data = function #Dá o valor\n",
    "        else:\n",
    "            node = self.root\n",
    "            height = 0\n",
    "            while(1):\n",
    "                height += 1 #Todo loop do while é um nível a mais da árvore\n",
    "                if random.randint(0, 1) == 0: #Escolhe aleatoriamente o nó da esquerda\n",
    "                    if node.left == None: #Se está vazio\n",
    "                        node.left = Node(function) #Cria nó com a função recebida\n",
    "                        break #Sai do while, já inseriu a função\n",
    "                    else:\n",
    "                        node = node.left #Se não está vazio, procura no seu ramo um nó para inserir o valor\n",
    "                        \n",
    "                else: #Escolhe aleatoriamente o nó da direita\n",
    "                    if node.right == None: #Mesmos procedimentos\n",
    "                        node.right = Node(function)\n",
    "                        break\n",
    "                    else:\n",
    "                        node = node.right\n",
    "                        \n",
    "            if height > self.height: #Se a altura em que nó foi criado for maior que a salva\n",
    "                self.height = height #Atualiza\n",
    "    \n",
    "    def insert_terminals(self, node, height): #Coloca os terminais nos nós vazios a esquerda ou direita das funções\n",
    "        if node.left == None: #Se nó à esquerda está vazio\n",
    "            node.left = Node(terminals[random.randint(0, len(terminals)-1)]) #Coloca um terminal aleatório\n",
    "        else:\n",
    "            self.insert_terminals(node.left, height + 1) #Se não, busca por nós vazios em seu ramo\n",
    "            \n",
    "        if node.right == None: #Mesmos procedimentos para a direita\n",
    "            node.right = Node(terminals[random.randint(0, len(terminals)-1)])\n",
    "        else:\n",
    "            self.insert_terminals(node.right, height + 1)\n",
    "        \n",
    "        if height > self.height: #Se a altura em que o nó foi criado for maior que a salva\n",
    "            self.height = height #Atualiza\n",
    "        \n",
    "    def create_tree(self): #Criar/Popular árvore\n",
    "        while(self.height < 6): #Coloca primeiro funções aleatórias até que a árvore tenha altura 6\n",
    "                                #Todas possuem altura 7 na população inicial, mas não são full para mais diversidade\n",
    "            self.insert_functions(functions[random.randint(0, 3)])\n",
    "        self.insert_terminals(self.root, 1) #Coloca os terminais nos nós vazios a esquerda ou direita das funções\n",
    "    \n",
    "    def print_tree(self,node): #Imprime a árvore (DFS)\n",
    "        if node == None:\n",
    "            return\n",
    "    \n",
    "        print(node.data)\n",
    "        if node.left != None:\n",
    "            self.print_tree(node.left)\n",
    "        if node.right != None:\n",
    "            self.print_tree(node.right)\n",
    "    \n",
    "    def calculate_function(self,point1,point2): #Calcula a função representada para dois pontos\n",
    "        def calculate(node, point1, point2): #Para cada nó, calcula o valor\n",
    "            if is_function(node.data) == False: #Se é terminal\n",
    "                col = int(node.data[2:]) #A coluna(parâmetro) é o inteiro a partir do terceiro caractere\n",
    "                if (node.data[:2] == 'P1'): #Se do ponto 1\n",
    "                    return point1[col] #Retorna o valor do parâmetro do ponto 1\n",
    "                else: # Se do ponto 2\n",
    "                    return point2[col] #Retorna o valor do parâmetro do ponto 2\n",
    "            \n",
    "            #Se é função\n",
    "            if node.left != None: \n",
    "                left = calculate(node.left, point1, point2) #Calcula o valor do ramo da esquerda\n",
    "            if node.right != None:\n",
    "                right = calculate(node.right, point1, point2) #Calvula o valor do tamo da direita\n",
    "            \n",
    "            #Realiza as operações que a função representa e retorna o valor absoluto\n",
    "            if node.data == '+':\n",
    "                value = abs(np.add(left, right))\n",
    "            elif node.data == '-':\n",
    "                value = abs(np.subtract(left, right))\n",
    "            elif node.data == 'x':\n",
    "                value = abs(np.multiply(left, right))\n",
    "            else:\n",
    "                if right != 0:\n",
    "                    value = abs(np.divide(left, right))\n",
    "                else: #Se a divisão for por 0, retorna 0\n",
    "                    value = 0\n",
    "    \n",
    "            return value\n",
    "        \n",
    "        \n",
    "        return calculate(self.root,point1,point2) #Começando da raiz, calcula a função de distância para esses dois pontos\n",
    "    \n",
    "    def call_function(self,X): #Chama a função de distância para pares de pontos em X (necessário no cluster hierárquico)\n",
    "        return pairwise_distances(X, metric=self.calculate_function)"
   ]
  },
  {
   "cell_type": "markdown",
   "metadata": {},
   "source": [
    "### Operadores\n",
    "#### Funções auxiliares"
   ]
  },
  {
   "cell_type": "code",
   "execution_count": 7,
   "metadata": {},
   "outputs": [],
   "source": [
    "def check_height(node): #Retorna a profundidade máxima da árvore ou ramo\n",
    "    if node == None: #Se não é um nó\n",
    "        return -1 #Tira 1 da altura\n",
    "        \n",
    "    left = check_height(node.left) #Altura do ramo da esquerda\n",
    "    \n",
    "    right = check_height(node.right) #Altura do ramo da direita\n",
    "    \n",
    "    if left > right: #Retorna a maior altura encontrada\n",
    "        return left + 1\n",
    "    else:\n",
    "        return right + 1\n",
    "    \n",
    "def pick_random_branch(ind): #Escolhe um ramo aleatório\n",
    "    height = 0\n",
    "    node = ind.root #Passa por toda a árvore\n",
    "    while(1):\n",
    "        if random.randint(0, 1) == 0: #Escolhe aleatoriamento o nó da esquerda\n",
    "            if node.left != None: #Se não é vazio\n",
    "                height += 1 #Adiciona 1 à altura do nó\n",
    "                previous = node #Anterior ao próximo nó\n",
    "                node = node.left #Novo nó\n",
    "                side = 'l' #De qual lado está em relação ao anterior\n",
    "                if random.randint(0, 1) == 0: #Parar por aqui\n",
    "                    break\n",
    "            else: #Se é vazio, parar e retornar o do último loop\n",
    "                break\n",
    "        else: #Escolhe o nó da direita\n",
    "            if node.right != None: #Mesmos procedimentos\n",
    "                height += 1\n",
    "                previous = node\n",
    "                node = node.right\n",
    "                side = 'r'\n",
    "                if random.randint(0, 1) == 0:\n",
    "                    break\n",
    "            else:\n",
    "                break\n",
    "                \n",
    "    return height,node,previous,side"
   ]
  },
  {
   "cell_type": "markdown",
   "metadata": {},
   "source": [
    "#### Cruzamento"
   ]
  },
  {
   "cell_type": "code",
   "execution_count": 8,
   "metadata": {},
   "outputs": [],
   "source": [
    "def crossover(ind1, ind2):\n",
    "    height1, branch1, previous1, side1 = pick_random_branch(ind1) #Escolhe um ramo aleatório de cada indivíduo\n",
    "    height2, branch2, previous2, side2 = pick_random_branch(ind2)\n",
    "    \n",
    "    while (height1 + check_height(branch2) > 7) or (height2 + check_height(branch1) > 7): #Se troca causa alguma árvore com\n",
    "                                                                                          #altura maior que 7; escolhe de novo\n",
    "        height1, branch1, previous1, side1 = pick_random_branch(ind1)\n",
    "        height2, branch2, previous2, side2 = pick_random_branch(ind2)\n",
    "    \n",
    "    #Já achou ramos que funcionam\n",
    "    aux = branch2\n",
    "    if side2 == 'l': #Verifiva de qual lado do anterior trocar\n",
    "        previous2.left = branch1 #Coloca o ramo do outro indivíduo a esquerda\n",
    "    else:\n",
    "        previous2.right = branch1 #Coloca o ramo do outro indivíduo a direita\n",
    "    \n",
    "    if side1 == 'l': #O mesmo para o outro indivíduo\n",
    "        previous1.left = aux\n",
    "    else:\n",
    "        previous1.right = aux"
   ]
  },
  {
   "cell_type": "markdown",
   "metadata": {},
   "source": [
    "#### Mutação"
   ]
  },
  {
   "cell_type": "code",
   "execution_count": 9,
   "metadata": {},
   "outputs": [],
   "source": [
    "def terminal_to_function(node,value,height): #Transforma um nó de terminal em um nó de função\n",
    "    if is_function(value) == True: #Se valor novo é função\n",
    "        node.data = value #Copia valor novo para nó\n",
    "        \n",
    "        if height == 7: #Se altura é 7\n",
    "            node.data = terminals[random.randint(0, len(terminals)-1)] #Escolhe um terminal aleatório\n",
    "            return                                                     #para por no lugar\n",
    "        \n",
    "        if node.left == None: #Se à equerda é vazio\n",
    "            node.left = Node('') #Cria nó\n",
    "            if random.randint(0, 1) == 0: #Cria ramo à esquerda a partir de função\n",
    "                terminal_to_function(node.left,functions[random.randint(0, 3)],height+1)\n",
    "            else: #Cria ramo à direita com terminal\n",
    "                terminal_to_function(node.left,terminals[random.randint(0, len(terminals)-1)],height+1)\n",
    "        if node.right == None: #Se à direita é vazio\n",
    "            node.right = Node('') #Mesmos procedimentos\n",
    "            if random.randint(0, 1) == 0:\n",
    "                terminal_to_function(node.right,functions[random.randint(0, 3)],height+1)\n",
    "            else:\n",
    "                terminal_to_function(node.right,terminals[random.randint(0, len(terminals)-1)],height+1)\n",
    "                \n",
    "    else: #Se valor novo for terminal\n",
    "        node.data = value #Só copia valor para o nó\n",
    "    \n",
    "    return\n",
    "\n",
    "def mutation(ind): #Faz mutação em um nó aleatório\n",
    "    height, node, previous, side = pick_random_branch(ind) #Escolhe o nó\n",
    "\n",
    "    if random.randint(0, 1) == 0: #Faz mutação para uma função\n",
    "        if is_function(node.data) == True: #Se nó já era função\n",
    "            node.data = functions[random.randint(0, 3)] #Só altera a função\n",
    "        else: #Se era terminal, precisa construir ramo, já que era folha\n",
    "            terminal_to_function(node,functions[random.randint(0, 3)],height)\n",
    "    else: #Faz mutação para um terminal\n",
    "        node.data = terminals[random.randint(0, len(terminals)-1)] #Só altera o valor para terminal\n",
    "        node.left = None #E torna folha\n",
    "        node.right = None"
   ]
  },
  {
   "cell_type": "markdown",
   "metadata": {},
   "source": [
    "#### Elitismo"
   ]
  },
  {
   "cell_type": "code",
   "execution_count": 10,
   "metadata": {},
   "outputs": [],
   "source": [
    "def elitism(pop,fitness): #Retorna melhor indivíduo da população\n",
    "    df_pop_fit = pd.DataFrame(data={'population': pop, 'fitness': fitness}) #Coloca em dataframe\n",
    "    df_pop_fit = df_pop_fit.sort_values(by='fitness', ascending=False) #Ordena decrescentemente\n",
    "    indexes = df_pop_fit.index #Pega índices na ordem decrescente\n",
    "    \n",
    "    return df_pop_fit.population[indexes[0]] #Retorna indivíduo com primeiro índice da ordem decrescente"
   ]
  },
  {
   "cell_type": "markdown",
   "metadata": {},
   "source": [
    "#### Seleção (Torneio)"
   ]
  },
  {
   "cell_type": "code",
   "execution_count": 11,
   "metadata": {},
   "outputs": [],
   "source": [
    "def selection_tournament(k,pop,fitness): #Faz seleção por torneio\n",
    "    group_indexes = [] #Indexes dos indivíduo no grupo\n",
    "    while len(group_indexes) < k: #Enquanto não tiver k membros\n",
    "        j = random.randint(0, len(pop)-1) #Peha aleatório\n",
    "        if j not in group_indexes:\n",
    "            group_indexes.append(j) #Coloca se não já estiver no grupo\n",
    "\n",
    "    max_fit = -1\n",
    "    for i in group_indexes: #Encontra o index daquele com maior fitness\n",
    "        if (max_fit == -1) or (fitness[i] > fitness[max_fit]):\n",
    "            max_fit = i\n",
    "    \n",
    "    return max_fit #Retorna o index encontrado"
   ]
  },
  {
   "cell_type": "markdown",
   "metadata": {},
   "source": [
    "### Fitness"
   ]
  },
  {
   "cell_type": "code",
   "execution_count": 12,
   "metadata": {},
   "outputs": [],
   "source": [
    "def get_clusters(individual): #Retorna vetor com o cluster de cada linha da base de dados\n",
    "                              #com base na função do indivíduo\n",
    "    clusters = AgglomerativeClustering(n_clusters=class_df, affinity=individual.call_function, linkage='complete')\n",
    "    clusters = clusters.fit_predict(X)\n",
    "    \n",
    "    return clusters\n",
    "\n",
    "def fitness(pop): #Retorna vetor com a fitness de cada indivíduo na população recebida\n",
    "    X_copy = X.copy()\n",
    "    fitness = np.array([])\n",
    "    \n",
    "    for i in range(len(pop)): #Para cada indivíduo da população\n",
    "        str_pred = 'y_pred'+str(i)\n",
    "        clusters = get_clusters(pop[i]) #Acha os clusters previstos\n",
    "        \n",
    "        for i in range(len(clusters)):\n",
    "            X_copy.loc[i,str_pred] = clusters[i] #Coloca na base de dados\n",
    "        fitness = np.append(fitness,v_measure_score(df[result_column], X_copy[str_pred])) #Calcula a fitness comparando com a \n",
    "                                                                                          #classificação real\n",
    "    \n",
    "    return fitness"
   ]
  },
  {
   "cell_type": "markdown",
   "metadata": {},
   "source": [
    "### Populações\n",
    "#### População inicial"
   ]
  },
  {
   "cell_type": "code",
   "execution_count": 13,
   "metadata": {},
   "outputs": [],
   "source": [
    "def create_initial_pop(size): #Cria população inicial\n",
    "    pop = np.array([])\n",
    "    for i in range(size): #Número de indivíduos da população\n",
    "        ind = Tree()\n",
    "        ind.create_tree()\n",
    "        pop = np.append(pop,ind)\n",
    "        \n",
    "    return pop"
   ]
  },
  {
   "cell_type": "markdown",
   "metadata": {},
   "source": [
    "#### Nova população"
   ]
  },
  {
   "cell_type": "code",
   "execution_count": 14,
   "metadata": {},
   "outputs": [],
   "source": [
    "def new_population(pop, fitness): #Computa a nova população e fitness média dos pais de cada indivíduo criado\n",
    "    new_pop = np.array([])\n",
    "    parents_fitness = np.array([]) #Guarda as fitness dos pais de cada indivíduo\n",
    "    \n",
    "    if flag_elitism == True: #Se há elitismo\n",
    "        parents_fitness = np.append(parents_fitness, -1) #Quando fitness dos pais não interessa, valor é -1\n",
    "        higher = Tree()\n",
    "        higher.root = deepcopy(elitism(pop,fitness).root) #Deep copy para não alterar o original com crossover/mutação\n",
    "        new_pop = np.append(new_pop, higher) #Adiciona o melhor indivíduo à nova população\n",
    "    \n",
    "    while len(new_pop) < pop_size: #Enquanto não chegar ao tamanho da população\n",
    "        ind1 = selection_tournament(tournament_size,pop,fitness) #Escolhe pai por torneio\n",
    "        \n",
    "        if (random.randint(0,100) <= p_crossover*100) and (len(new_pop) + 2 <= pop_size): # Chance de ser crossover\n",
    "            ind2 = ind1\n",
    "            while ind2 == ind1: #Se escolher o mesmo indivíduo, escolhe de novo\n",
    "                ind2 = selection_tournament(tournament_size,pop,fitness) #Escolhe o outro pai por torneio\n",
    "                \n",
    "            tree_ind1 = Tree()\n",
    "            tree_ind1.root = deepcopy(pop[ind1].root) #Deep copy para não alterar o pai\n",
    "            tree_ind1.height = check_height(tree_ind1.root) #Coloca altura da árvore\n",
    "            tree_ind2 = Tree()\n",
    "            tree_ind2.root = deepcopy(pop[ind2].root)\n",
    "            tree_ind2.height = check_height(tree_ind2.root)\n",
    "            crossover(tree_ind1,tree_ind2) #Realiza crossover das deep copies\n",
    "            \n",
    "            avr_parent_fit = (fitness[ind1] + fitness[ind2])/2 #Fitness média dos pais\n",
    "            parents_fitness = np.append(parents_fitness,[avr_parent_fit, avr_parent_fit]) #Adiciona duas vezes, já que foram\n",
    "                                                                                          #criados dois filhos\n",
    "            \n",
    "            new_pop = np.append(new_pop,tree_ind1) #Coloca novos indivíduos na nova população\n",
    "            new_pop = np.append(new_pop,tree_ind2)\n",
    "            \n",
    "        elif random.randint(0,100) <= (p_crossover + p_mutation)*100: #Chance de ser mutação\n",
    "            tree_ind1 = Tree()\n",
    "            tree_ind1.height = check_height(tree_ind1.root) #Coloca altura da árvore\n",
    "            tree_ind1.root = deepcopy(pop[ind1].root) #Deep copy para não alterar o pai\n",
    "            mutation(tree_ind1) #Mutação da deep copy\n",
    "            \n",
    "            parents_fitness = np.append(parents_fitness, -1) #Fitness do pai não interessa para estatística, coloca -1\n",
    "            new_pop = np.append(new_pop,tree_ind1) #Coloca novo indivíduo na nova população\n",
    "    \n",
    "    return new_pop, parents_fitness"
   ]
  },
  {
   "cell_type": "markdown",
   "metadata": {},
   "source": [
    "### Geração"
   ]
  },
  {
   "cell_type": "code",
   "execution_count": 15,
   "metadata": {},
   "outputs": [],
   "source": [
    "def max_min_fitness(fitness): #Acha maior e menor fitness da geração\n",
    "    sorted_fit = -np.sort(-fitness) #Ordena em ordem decrescente\n",
    "    return sorted_fit[0], sorted_fit[len(fitness)-1]\n",
    "\n",
    "def average_fitness(fitness): #Acha fitness média da geração\n",
    "    return np.sum(fitness) / len(fitness)\n",
    "\n",
    "def check_equal(node1, node2): #Checa se dois indivíduos são iguais\n",
    "    if node1 == None and node2 == None: #Se ambos nós da recursão são None, retorna True\n",
    "        return True\n",
    "    \n",
    "    if node1 != None and node2 != None: #Se ambos não são\n",
    "                                        #Checa condições: valor igual e ramos da esquerda e da direita devem ser iguais\n",
    "        return (node1.data == node2.data and check_equal(node1.left,node2.left) and check_equal(node1.right,node2.right))\n",
    "    \n",
    "    return False #Se só um é None, retorna False\n",
    "        \n",
    "def repeted_solutions(population): #Conta soluções repetidas\n",
    "    num_equals = 0\n",
    "    \n",
    "    for i in range(len(population)-1): #Para toda a população\n",
    "        ind1 = population[i]\n",
    "        for j in range(i+1,len(population)): #Comparar com aqueles que ainda não houve comparação (à frente na população)\n",
    "            ind2 = population[j]\n",
    "            if (ind1.height == ind2.height): #Se as alturas forem iguais\n",
    "                if check_equal(ind1.root, ind2.root) == True: #Checa se são iguais\n",
    "                    num_equals += 1 #Se sim, aumenta o número de repetições\n",
    "    \n",
    "    return num_equals\n",
    "\n",
    "def children_better_worse(parents_fitness, pop_fitness): #Conta os filhos melhores e piores que seus pais do crossover\n",
    "    if len(parents_fitness) == 0: #Se não há dado de fitness dos pais: primeira geração\n",
    "        return -1, -1 #Retorna valores padrões para a primeira geração\n",
    "    \n",
    "    better = 0\n",
    "    worse = 0\n",
    "    for i in range(len(pop_fitness)): #Para cada membro da população\n",
    "        if parents_fitness[i] > -1: #Se é um valor do crossover (ao invés do elitismo e mutação)\n",
    "            if parents_fitness[i] < pop_fitness[i]: #Se média dos pais for pior\n",
    "                better += 1 #Aumenta em 1 filhos melhores\n",
    "            elif parents_fitness[i] > pop_fitness[i]: #Se média dos pais for melhor\n",
    "                worse += 1 #Aumenta em 1 filhos piores\n",
    "    \n",
    "    return better, worse"
   ]
  },
  {
   "cell_type": "code",
   "execution_count": 16,
   "metadata": {},
   "outputs": [],
   "source": [
    "def generation(pop, parents_fit): #Cada geração retorna nova população, novo vetor de fitness dos pais e suas estatísticas\n",
    "    statistics = [] #Lista que guarda estatísticas\n",
    "    pop_fitness = fitness(pop) #Calcula fitness da população recebida\n",
    "    \n",
    "    #Cálculo das estatísticas\n",
    "    max_f,min_f = max_min_fitness(pop_fitness)\n",
    "    avr_fit = average_fitness(pop_fitness)\n",
    "    equal_sol = repeted_solutions(pop)\n",
    "    better_children, worse_children = children_better_worse(parents_fit,pop_fitness)\n",
    "    statistics.append(max_f)\n",
    "    statistics.append(min_f)\n",
    "    statistics.append(avr_fit)\n",
    "    statistics.append(equal_sol)\n",
    "    statistics.append(better_children)\n",
    "    statistics.append(worse_children)\n",
    "    \n",
    "    new_pop, new_parents_fit = new_population(pop,pop_fitness) #Recebe nova população e novo vetor de fitness dos pais\n",
    "    return new_pop, new_parents_fit, statistics"
   ]
  },
  {
   "cell_type": "markdown",
   "metadata": {},
   "source": [
    "### Algoritmo completo"
   ]
  },
  {
   "cell_type": "code",
   "execution_count": 17,
   "metadata": {},
   "outputs": [],
   "source": [
    "def algorithm(): #Algoritmo; retorna melhor indivíduo, sua fitness e o dataframe com os dados das gerações\n",
    "    #start_time_a = time.time()\n",
    "    \n",
    "    population = create_initial_pop(pop_size) #Cria população inicial\n",
    "    parents_fit = np.array([]) #Array de fitness dos pais vazio\n",
    "    \n",
    "    #Dataframe inicialmente vazio\n",
    "    df_stats = pd.DataFrame({'max_fit': [], 'min_fit': [], 'avr_fit': [], 'repeted_ind': [], \n",
    "                             'children_better': [], 'children_worse': []})\n",
    "    \n",
    "    for i in range(num_gen): #Faz o número de gerações requeridos; critério de parada\n",
    "        #start_time_g = time.time()\n",
    "        population, parents_fit, gen_stats = generation(population, parents_fit) #Computa geração\n",
    "        #print(time.time() - start_time_g)\n",
    "        #print(gen_stats)\n",
    "        df_stats.loc[i] = gen_stats #Coloca suas estatísticas no Dataframe\n",
    "        gc.collect()\n",
    "    \n",
    "    #Dados da população final\n",
    "    gen_stats = []\n",
    "    pop_fitness = fitness(population)\n",
    "    \n",
    "    #Estatísticas da última geração\n",
    "    max_f,min_f = max_min_fitness(pop_fitness)\n",
    "    avr_fit = average_fitness(pop_fitness)\n",
    "    equal_sol = repeted_solutions(population)\n",
    "    better_children, worse_children = children_better_worse(parents_fit,pop_fitness)\n",
    "    gen_stats.append(max_f)\n",
    "    gen_stats.append(min_f)\n",
    "    gen_stats.append(avr_fit)\n",
    "    gen_stats.append(equal_sol)\n",
    "    gen_stats.append(better_children)\n",
    "    gen_stats.append(worse_children)\n",
    "    df_stats.loc[num_gen] = gen_stats #Coloca no dataframe\n",
    "    \n",
    "    max_fit_final = 0\n",
    "    for i in range(1,len(pop_fitness)): #Acha o índice do maior fitness\n",
    "        if pop_fitness[i] > pop_fitness[max_fit_final]:\n",
    "            max_fit_final = i\n",
    "    \n",
    "    #print('algorithm time: ' + str(time.time() - start_time_a))\n",
    "    gc.collect()\n",
    "    return population[max_fit_final], pop_fitness[max_fit_final], df_stats #Retorna solução, fitness e dataframe"
   ]
  },
  {
   "cell_type": "code",
   "execution_count": 18,
   "metadata": {},
   "outputs": [],
   "source": [
    "best_ind, best_fit, df_stats_train = algorithm()"
   ]
  },
  {
   "cell_type": "markdown",
   "metadata": {},
   "source": [
    "### Estatísticas do treino"
   ]
  },
  {
   "cell_type": "code",
   "execution_count": 19,
   "metadata": {},
   "outputs": [
    {
     "data": {
      "image/png": "[encoded data removed]",
      "text/plain": [
       "<Figure size 432x288 with 1 Axes>"
      ]
     },
     "metadata": {
      "needs_background": "light"
     },
     "output_type": "display_data"
    }
   ],
   "source": [
    "plt.title('Estatísticas de fitness por geração')\n",
    "plt.xlabel('Geração')\n",
    "plt.ylabel('Fitness')\n",
    "\n",
    "plt.plot(df_stats_train.max_fit, label='Máxima', color='blue')\n",
    "plt.plot(df_stats_train.avr_fit, label='Media', color='yellow')\n",
    "plt.plot(df_stats_train.min_fit, label='Mínima', color='red')\n",
    "\n",
    "plt.legend()\n",
    "plt.show()"
   ]
  },
  {
   "cell_type": "code",
   "execution_count": 20,
   "metadata": {},
   "outputs": [
    {
     "data": {
      "image/png": "[encoded data removed]",
      "text/plain": [
       "<Figure size 432x288 with 1 Axes>"
      ]
     },
     "metadata": {
      "needs_background": "light"
     },
     "output_type": "display_data"
    }
   ],
   "source": [
    "plt.title('Estatísticas de indivíduos por geração')\n",
    "plt.xlabel('Geração')\n",
    "plt.ylabel('Número de indivíduos')\n",
    "\n",
    "plt.plot(df_stats_train.children_better, label='Filhos Melhores', color='green')\n",
    "plt.plot(df_stats_train.repeted_ind, label='Indivíduos Repetidos', color='yellow')\n",
    "plt.plot(df_stats_train.children_worse, label='Filhos piores', color='red')\n",
    "\n",
    "plt.legend()\n",
    "plt.show()"
   ]
  },
  {
   "cell_type": "markdown",
   "metadata": {},
   "source": [
    "## Teste\n",
    "### Importa segunda base de dados"
   ]
  },
  {
   "cell_type": "code",
   "execution_count": 21,
   "metadata": {},
   "outputs": [
    {
     "data": {
      "text/html": [
       "<div>\n",
       "<style scoped>\n",
       "    .dataframe tbody tr th:only-of-type {\n",
       "        vertical-align: middle;\n",
       "    }\n",
       "\n",
       "    .dataframe tbody tr th {\n",
       "        vertical-align: top;\n",
       "    }\n",
       "\n",
       "    .dataframe thead th {\n",
       "        text-align: right;\n",
       "    }\n",
       "</style>\n",
       "<table border=\"1\" class=\"dataframe\">\n",
       "  <thead>\n",
       "    <tr style=\"text-align: right;\">\n",
       "      <th></th>\n",
       "      <th>Age</th>\n",
       "      <th>BMI</th>\n",
       "      <th>Glucose</th>\n",
       "      <th>Insulin</th>\n",
       "      <th>HOMA</th>\n",
       "      <th>Leptin</th>\n",
       "      <th>Adiponectin</th>\n",
       "      <th>Resistin</th>\n",
       "      <th>MCP.1</th>\n",
       "      <th>Classification</th>\n",
       "    </tr>\n",
       "  </thead>\n",
       "  <tbody>\n",
       "    <tr>\n",
       "      <th>0</th>\n",
       "      <td>71</td>\n",
       "      <td>25.510204</td>\n",
       "      <td>112</td>\n",
       "      <td>10.395</td>\n",
       "      <td>2.871792</td>\n",
       "      <td>19.0653</td>\n",
       "      <td>5.486100</td>\n",
       "      <td>42.74470</td>\n",
       "      <td>799.898</td>\n",
       "      <td>2</td>\n",
       "    </tr>\n",
       "    <tr>\n",
       "      <th>1</th>\n",
       "      <td>86</td>\n",
       "      <td>21.111111</td>\n",
       "      <td>92</td>\n",
       "      <td>3.549</td>\n",
       "      <td>0.805386</td>\n",
       "      <td>6.6994</td>\n",
       "      <td>4.819240</td>\n",
       "      <td>10.57635</td>\n",
       "      <td>773.920</td>\n",
       "      <td>1</td>\n",
       "    </tr>\n",
       "    <tr>\n",
       "      <th>2</th>\n",
       "      <td>75</td>\n",
       "      <td>27.300000</td>\n",
       "      <td>85</td>\n",
       "      <td>5.197</td>\n",
       "      <td>1.089638</td>\n",
       "      <td>10.3900</td>\n",
       "      <td>9.000805</td>\n",
       "      <td>7.57670</td>\n",
       "      <td>335.393</td>\n",
       "      <td>1</td>\n",
       "    </tr>\n",
       "    <tr>\n",
       "      <th>3</th>\n",
       "      <td>76</td>\n",
       "      <td>29.218408</td>\n",
       "      <td>83</td>\n",
       "      <td>5.376</td>\n",
       "      <td>1.100646</td>\n",
       "      <td>28.5620</td>\n",
       "      <td>7.369960</td>\n",
       "      <td>8.04375</td>\n",
       "      <td>698.789</td>\n",
       "      <td>1</td>\n",
       "    </tr>\n",
       "    <tr>\n",
       "      <th>4</th>\n",
       "      <td>34</td>\n",
       "      <td>21.470000</td>\n",
       "      <td>78</td>\n",
       "      <td>3.469</td>\n",
       "      <td>0.667436</td>\n",
       "      <td>14.5700</td>\n",
       "      <td>13.110000</td>\n",
       "      <td>6.92000</td>\n",
       "      <td>354.600</td>\n",
       "      <td>1</td>\n",
       "    </tr>\n",
       "  </tbody>\n",
       "</table>\n",
       "</div>"
      ],
      "text/plain": [
       "   Age        BMI  Glucose  Insulin      HOMA   Leptin  Adiponectin  Resistin  \\\n",
       "0   71  25.510204      112   10.395  2.871792  19.0653     5.486100  42.74470   \n",
       "1   86  21.111111       92    3.549  0.805386   6.6994     4.819240  10.57635   \n",
       "2   75  27.300000       85    5.197  1.089638  10.3900     9.000805   7.57670   \n",
       "3   76  29.218408       83    5.376  1.100646  28.5620     7.369960   8.04375   \n",
       "4   34  21.470000       78    3.469  0.667436  14.5700    13.110000   6.92000   \n",
       "\n",
       "     MCP.1  Classification  \n",
       "0  799.898               2  \n",
       "1  773.920               1  \n",
       "2  335.393               1  \n",
       "3  698.789               1  \n",
       "4  354.600               1  "
      ]
     },
     "execution_count": 21,
     "metadata": {},
     "output_type": "execute_result"
    }
   ],
   "source": [
    "df = pd.read_csv('breast_cancer_coimbra_test.csv')\n",
    "\n",
    "X = df.drop([result_column], axis=1)\n",
    "df.head()"
   ]
  },
  {
   "cell_type": "markdown",
   "metadata": {},
   "source": [
    "### Cálculo da fitness para o melhor indivíduo encontrado no treino"
   ]
  },
  {
   "cell_type": "code",
   "execution_count": 22,
   "metadata": {},
   "outputs": [
    {
     "data": {
      "text/plain": [
       "0.06876466356517148"
      ]
     },
     "execution_count": 22,
     "metadata": {},
     "output_type": "execute_result"
    }
   ],
   "source": [
    "fitness([best_ind])[0]"
   ]
  }
 ],
 "metadata": {
  "kernelspec": {
   "display_name": "Python 3",
   "language": "python",
   "name": "python3"
  },
  "language_info": {
   "codemirror_mode": {
    "name": "ipython",
    "version": 3
   },
   "file_extension": ".py",
   "mimetype": "text/x-python",
   "name": "python",
   "nbconvert_exporter": "python",
   "pygments_lexer": "ipython3",
   "version": "3.8.5"
  }
 },
 "nbformat": 4,
 "nbformat_minor": 4
}
